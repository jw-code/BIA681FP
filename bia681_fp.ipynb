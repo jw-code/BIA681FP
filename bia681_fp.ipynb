{
  "nbformat": 4,
  "nbformat_minor": 0,
  "metadata": {
    "accelerator": "GPU",
    "colab": {
      "name": "Josh Wacholz Final Project for BIA 681.ipynb",
      "provenance": [],
      "collapsed_sections": [
        "uPOhg8_uUWNk",
        "ugaTcpTs6wXD",
        "Q0kDarIn-z1f",
        "BQ1GHfeDEzFp",
        "SCwJFglkGygX",
        "Uy9e6v91ElDT",
        "7b3BzodteWHC"
      ]
    },
    "kernelspec": {
      "display_name": "Python 3",
      "name": "python3"
    },
    "language_info": {
      "name": "python"
    }
  },
  "cells": [
    {
      "cell_type": "markdown",
      "metadata": {
        "id": "G2z_MuKIGVf0"
      },
      "source": [
        "# German Traffic Sign Image Classification"
      ]
    },
    {
      "cell_type": "markdown",
      "metadata": {
        "id": "vkmb3KePGjd4"
      },
      "source": [
        "## Josh Wacholz"
      ]
    },
    {
      "cell_type": "markdown",
      "metadata": {
        "id": "87djmbeDNNI6"
      },
      "source": [
        "## Table of Contents\n",
        "1. Background\n",
        "2. Goal\n",
        "3. Source Data\n",
        "4. Initial Review of the Data\n",
        "5. Data Wrangling\n",
        "6. Deep Learning Methodologies\n",
        "7. Overall Conclusions and Recommendations"
      ]
    },
    {
      "cell_type": "markdown",
      "metadata": {
        "id": "SKhQUzMeHIeZ"
      },
      "source": [
        "## 1. Background"
      ]
    },
    {
      "cell_type": "markdown",
      "metadata": {
        "id": "xcRzl_PccQpk"
      },
      "source": [
        "Self driving cars are the future. For cars to be fully autonomous, they need to be able to classify all kinds of objects. Most importantly, they need to learn and understand all of the different traffic signs quickly and accurately so that they can make decisions about what to do when a traffic sign is detected.\n",
        "\n",
        "Disclaimer: I had no idea that my project was going to be used as an example in chapter 12 of the Deep Learning For Dummies book. The code in the book was helpful though in getting my neural networks to run properly using Colab."
      ]
    },
    {
      "cell_type": "markdown",
      "metadata": {
        "id": "Dt5a5lTlHfR3"
      },
      "source": [
        "## 2. Goal"
      ]
    },
    {
      "cell_type": "markdown",
      "metadata": {
        "id": "crvutOosaCXn"
      },
      "source": [
        "My goal for the project was to build a convolutional neural network that can classify images of German traffic signs with more accuracy than a simple, baseline CNN and approach the 99% accuracy obtained by the example in the book. Also, I wanted to show the effect that different techniques have on model performance. Also, I wanted to try using a pre-trained convnet to see the results."
      ]
    },
    {
      "cell_type": "markdown",
      "metadata": {
        "id": "0CvuORo6Hi8E"
      },
      "source": [
        "## 3. Source Data"
      ]
    },
    {
      "cell_type": "markdown",
      "metadata": {
        "id": "bRtIjkmpbcOQ"
      },
      "source": [
        "The German Traffic Sign Recognition Benchmark\n",
        "\n",
        "https://sid.erda.dk/public/archives/daaeac0d7ce1152aea9b61d9f1e19370/published-archive.html"
      ]
    },
    {
      "cell_type": "markdown",
      "metadata": {
        "id": "fUZctPXXHlxW"
      },
      "source": [
        "## 4. Initial Review of the Data"
      ]
    },
    {
      "cell_type": "markdown",
      "metadata": {
        "id": "yTg-VgSqtVdD"
      },
      "source": [
        "The dataset has 43 unique classes of traffic signs. They are images of German traffic signs along stretches of highway driven by the initial research team. \n",
        "\n",
        "My original plan was to use the data in the train.csv and test.csv files which consisted of features that described the height and width of the image, as well as 2 sets of X, Y coordinates. However, I changed my mind and decided to use the actual images themselves. I downloaded the final training images zip folder from the website linked below and then uploaded that zipfile into Colab.\n",
        "\n",
        "The dataset contains 39,209 color images of differing sizes, belonging to 43 different classes. This the actual training set used to train the neural network in the original research done by Stallkamp, Schlipsing, Salmen, and Igel. My project will divide this training set up into training and test sets instead of using the set of test images that the researchers used.\n",
        "\n",
        "The classes are imbalanced due to the frequency of certain signs on the roads, but each have a minimum of 210 images in them. The most images in any one class is 2250. It should be noted that the original researchers stratified the dataset to ensure that each class was represented. They also discarded classes with fewer than 30 images."
      ]
    },
    {
      "cell_type": "markdown",
      "metadata": {
        "id": "kDzVzaNKdbOm"
      },
      "source": [
        "## 5. Data Wrangling"
      ]
    },
    {
      "cell_type": "markdown",
      "metadata": {
        "id": "h7HeI1qhMka0"
      },
      "source": [
        "I had some difficulty in getting the images in to Colab to work with them effectively. First I tried uploading the train and test image directories into my Google Drive and then mounting it here in order to use Keras' ImageDataGenerator flow_from_directory method. This proved to be unrealisticly slow when running just a baseline neural network. After some deliberation, I used the code that the textbook uses, with some modifications, to read each file from the zip file that I uploaded into Colab that contained the final training images. The code reads each file path and separates each file into the appropriate variable. The end result are x_train, x_test, y_train, and y_test variables containing a number of images and their class label, based on the 'test_size' variable.\n",
        "\n",
        "The zip file was obtained from here (GTSRB_Final_Training_Images.zip): https://sid.erda.dk/public/archives/daaeac0d7ce1152aea9b61d9f1e19370/published-archive.html"
      ]
    },
    {
      "cell_type": "code",
      "source": [
        "# Code from pg 225 and 226 of the Deep Learning For Dummies book\n",
        "# It opens the zipped file containing the training images and assigns the image\n",
        "# and its label according to the if/else logic in the for loop below.\n",
        "# The end result is training/test split of 80/20.  \n",
        "\n",
        "import numpy as np\n",
        "import zipfile\n",
        "from skimage.transform import resize\n",
        "from skimage.io import imread\n",
        "import matplotlib.pyplot as plt\n",
        "%matplotlib inline\n",
        "\n",
        "import warnings\n",
        "warnings.filterwarnings(\"ignore\")\n",
        "\n",
        "img_size = 32\n",
        "test_size = 0.2\n",
        "\n",
        "x_train, x_test, y_train, y_test = list(), list(), list(), list()\n",
        "\n",
        "archive = zipfile.ZipFile('./GTSRB_Final_Training_Images.zip', 'r')\n",
        "\n",
        "file_paths = [file for file in archive.namelist() if '.ppm' in file]\n",
        "\n",
        "for filename in file_paths:\n",
        "  img = imread(archive.open(filename))\n",
        "  img = resize(img, \n",
        "               output_shape=(img_size, img_size), \n",
        "               mode='reflect')\n",
        "  img_class = int(filename.split('/')[-2])\n",
        "  \n",
        "  if(hash(filename) % 1000) / 1000 > test_size:\n",
        "    x_train.append(img)\n",
        "    y_train.append(img_class)\n",
        "  else:\n",
        "    x_test.append(img)\n",
        "    y_test.append(img_class)\n",
        "\n",
        "archive.close()"
      ],
      "metadata": {
        "id": "BhdXGNFcaMBG"
      },
      "execution_count": null,
      "outputs": []
    },
    {
      "cell_type": "code",
      "source": [
        "# Observe the number of images/labels in the Train and Test set and verify that\n",
        "# the test ratio is equal to the test_size variable\n",
        "\n",
        "test_ratio = len(x_test) / len(file_paths)\n",
        "print(\"Train size:\", len(x_train))\n",
        "print(\"Test size:\", len(x_test))\n",
        "print(\"Test ratio: {:.2f}\".format(test_ratio))"
      ],
      "metadata": {
        "colab": {
          "base_uri": "https://localhost:8080/"
        },
        "id": "o0ExPO9BfHOk",
        "outputId": "1d3c6baa-4275-4119-eb16-e788878e2479"
      },
      "execution_count": null,
      "outputs": [
        {
          "output_type": "stream",
          "name": "stdout",
          "text": [
            "Train size: 31184\n",
            "Test size: 8025\n",
            "Test ratio: 0.20\n"
          ]
        }
      ]
    },
    {
      "cell_type": "code",
      "source": [
        "# Observe the number of images/labels in each class\n",
        "\n",
        "classes, dist = np.unique(y_train + y_test, return_counts=True)\n",
        "num_classes = len(classes)\n",
        "print(\"Number of Classes: {}\".format(num_classes))\n",
        "\n",
        "plt.bar(classes, dist, align='center', alpha=0.5)\n",
        "plt.show()"
      ],
      "metadata": {
        "colab": {
          "base_uri": "https://localhost:8080/",
          "height": 282
        },
        "id": "yCibrEjfqMmL",
        "outputId": "3a9dbd62-2c96-4ec8-d32f-84794ba0ef87"
      },
      "execution_count": null,
      "outputs": [
        {
          "output_type": "stream",
          "name": "stdout",
          "text": [
            "Number of Classes: 43\n"
          ]
        },
        {
          "output_type": "display_data",
          "data": {
            "image/png": "[encoded data removed]",
            "text/plain": [
              "<Figure size 432x288 with 1 Axes>"
            ]
          },
          "metadata": {
            "needs_background": "light"
          }
        }
      ]
    },
    {
      "cell_type": "code",
      "source": [
        "# Show which class has the most images/labels, and which class has the least\n",
        "\n",
        "class_counts = dict(zip(classes,dist))\n",
        "max_count = max(class_counts.values())\n",
        "max_key = max(class_counts, key=class_counts.get)\n",
        "print(\"Class with the most images:\", max_key, \",\", max_count)\n",
        "\n",
        "min_count = min(class_counts.values())\n",
        "min_key = min(class_counts, key=class_counts.get)\n",
        "print(\"Class with the least images:\", min_key, \",\", min_count)"
      ],
      "metadata": {
        "colab": {
          "base_uri": "https://localhost:8080/"
        },
        "id": "WLn5AG4GXODu",
        "outputId": "90ea1234-0ad4-451a-af5b-ea53ba0561b7"
      },
      "execution_count": null,
      "outputs": [
        {
          "output_type": "stream",
          "name": "stdout",
          "text": [
            "Class with the most images: 2 , 2250\n",
            "Class with the least images: 0 , 210\n"
          ]
        }
      ]
    },
    {
      "cell_type": "markdown",
      "source": [
        "The class weight is a ratio based on class frequencies that the neural network uses to icnrease the signal from rarer class examples and to get rid of more frequent one."
      ],
      "metadata": {
        "id": "kfal4ZBkf3sj"
      }
    },
    {
      "cell_type": "code",
      "source": [
        "# Calculate the class weight by dividing each class count by the sum of all class counts\n",
        "\n",
        "class_weight = {c:dist[c]/np.sum(dist) for c in classes}"
      ],
      "metadata": {
        "id": "0j-WTBTaqnDI"
      },
      "execution_count": null,
      "outputs": []
    },
    {
      "cell_type": "markdown",
      "metadata": {
        "id": "1EqdJUV2eR-u"
      },
      "source": [
        "## 6. Deep Learning Methodologies"
      ]
    },
    {
      "cell_type": "code",
      "metadata": {
        "id": "zz54ZX--TZfy"
      },
      "source": [
        "# Import modules needed for CNNs and models\n",
        "\n",
        "from tensorflow import keras\n",
        "from tensorflow.keras.models import Sequential\n",
        "from tensorflow.keras.optimizers import Adam\n",
        "from tensorflow.keras.preprocessing.image import ImageDataGenerator \n",
        "from tensorflow.keras.utils import to_categorical\n",
        "from tensorflow.keras.layers import Conv2D, MaxPooling2D\n",
        "from tensorflow.keras.layers import (Flatten, Dense, Dropout)"
      ],
      "execution_count": null,
      "outputs": []
    },
    {
      "cell_type": "markdown",
      "source": [
        "First, I had to decide what metrics to use for this problem. The book only uses accuracy in their example, which automatically defaults to the correct accuracy based on the loss function chosen. Since this is a multi-class classification problem, I was curious to see what the categorical accuracy (In this case, 'accuracy' defaults to this because of using the categorical crossentropy loss function), precision, recall, and AUC were for each model. I was also interested in observing the top k (3) categorical accuracy which counts the prediction as correct if one out of the top 'k' predicted classes is the correct class."
      ],
      "metadata": {
        "id": "MTR_3OVWhEwX"
      }
    },
    {
      "cell_type": "code",
      "source": [
        "# Use functools to get the top k categorical accuracy and save to a variable\n",
        "import functools\n",
        "top3_acc = functools.partial(keras.metrics.top_k_categorical_accuracy, k=3)\n",
        "top3_acc.__name__ = 'top3_acc'\n",
        "\n",
        "# Define the metrics to use\n",
        "METRICS = [\n",
        "      keras.metrics.CategoricalAccuracy(name='cat_acc'),\n",
        "      keras.metrics.Precision(name='precision'),\n",
        "      keras.metrics.Recall(name='recall'),\n",
        "      keras.metrics.AUC(name='auc'),\n",
        "      top3_acc,\n",
        "      'accuracy'\n",
        "]"
      ],
      "metadata": {
        "id": "N0IRamgNg_cc"
      },
      "execution_count": null,
      "outputs": []
    },
    {
      "cell_type": "markdown",
      "source": [
        "The 3 baseline models use a single instance of an ImageDataGenerator to simply rescale each image, with no data augmentation. The first baseline model consists of one Conv2D layer, a Flatten layer, and a Dense layer of 43 neurons, matching the number of classes, with a softmax activation to provide probability outputs for each class. I chose a standard batch size of 32 to start. This model has 1,239,339 trainable parameters."
      ],
      "metadata": {
        "id": "K12C6u5tclo7"
      }
    },
    {
      "cell_type": "markdown",
      "metadata": {
        "id": "uPOhg8_uUWNk"
      },
      "source": [
        "### Baseline Model"
      ]
    },
    {
      "cell_type": "code",
      "metadata": {
        "id": "WX9XZ1_xTsCM"
      },
      "source": [
        "batch_size = 32\n",
        "\n",
        "dgen = ImageDataGenerator(rescale = 1./255.)\n",
        "\n",
        "train_generator = dgen.flow(\n",
        "    np.array(x_train),\n",
        "    to_categorical(y_train),\n",
        "    batch_size = batch_size\n",
        ")\n",
        "\n",
        "test_generator = dgen.flow(\n",
        "    np.array(x_test),\n",
        "    to_categorical(y_test),\n",
        "    batch_size = batch_size\n",
        ")"
      ],
      "execution_count": null,
      "outputs": []
    },
    {
      "cell_type": "code",
      "metadata": {
        "id": "Owr_-U7z0vx8"
      },
      "source": [
        "# Define the model layers and compile\n",
        "def baseline_model():\n",
        "    model = Sequential()\n",
        "    model.add(Conv2D(32, (3, 3), input_shape=(img_size, img_size, 3), activation='relu'))\n",
        "    model.add(Flatten())\n",
        "    model.add(Dense(num_classes, activation='softmax'))\n",
        "    return model\n",
        "\n",
        "model = baseline_model()\n",
        "model.compile(loss='categorical_crossentropy',\n",
        "              optimizer=Adam(learning_rate=0.001),\n",
        "              metrics=METRICS)"
      ],
      "execution_count": null,
      "outputs": []
    },
    {
      "cell_type": "code",
      "metadata": {
        "colab": {
          "base_uri": "https://localhost:8080/"
        },
        "id": "f2bD-IbdzPuV",
        "outputId": "3101f46b-d85e-4377-ca27-8eaa4ac7f3a6"
      },
      "source": [
        "model.summary()"
      ],
      "execution_count": null,
      "outputs": [
        {
          "output_type": "stream",
          "name": "stdout",
          "text": [
            "Model: \"sequential\"\n",
            "_________________________________________________________________\n",
            " Layer (type)                Output Shape              Param #   \n",
            "=================================================================\n",
            " conv2d (Conv2D)             (None, 30, 30, 32)        896       \n",
            "                                                                 \n",
            " flatten (Flatten)           (None, 28800)             0         \n",
            "                                                                 \n",
            " dense (Dense)               (None, 43)                1238443   \n",
            "                                                                 \n",
            "=================================================================\n",
            "Total params: 1,239,339\n",
            "Trainable params: 1,239,339\n",
            "Non-trainable params: 0\n",
            "_________________________________________________________________\n"
          ]
        }
      ]
    },
    {
      "cell_type": "code",
      "metadata": {
        "id": "5JhY0wW9pCrR"
      },
      "source": [
        "# Fit the model\n",
        "history = model.fit(train_generator,\n",
        "                    validation_data = test_generator,\n",
        "                    epochs = 50,\n",
        "                    verbose = 0)"
      ],
      "execution_count": null,
      "outputs": []
    },
    {
      "cell_type": "code",
      "source": [
        "# Evaluate the model on test images/labels from the test generator and observe metrics values\n",
        "baseline_results = model.evaluate(test_generator, batch_size=batch_size, verbose=1)\n",
        "for name, value in zip(model.metrics_names, baseline_results):\n",
        "  print(name, ': ', value)"
      ],
      "metadata": {
        "colab": {
          "base_uri": "https://localhost:8080/"
        },
        "id": "PQMyzCnNjBcY",
        "outputId": "cbdbdde9-eee5-4f80-887c-b72882efc72a"
      },
      "execution_count": null,
      "outputs": [
        {
          "output_type": "stream",
          "name": "stdout",
          "text": [
            "244/244 [==============================] - 2s 9ms/step - loss: 0.2524 - cat_acc: 0.9488 - precision: 0.9601 - recall: 0.9413 - auc: 0.9937 - top3_acc: 0.9853 - accuracy: 0.9488\n",
            "loss :  0.25243934988975525\n",
            "cat_acc :  0.948846161365509\n",
            "precision :  0.9601150751113892\n",
            "recall :  0.9412820339202881\n",
            "auc :  0.9937134385108948\n",
            "top3_acc :  0.9852564334869385\n",
            "accuracy :  0.948846161365509\n"
          ]
        }
      ]
    },
    {
      "cell_type": "code",
      "source": [
        "# Plot the accuracy and validation accuracy metrics for both training and test sets\n",
        "print(\"Best validation accuracy: {:0.3f}\".format(np.max(history.history['val_accuracy'])))\n",
        "\n",
        "plt.plot(history.history['accuracy'])\n",
        "plt.plot(history.history['val_accuracy'])\n",
        "plt.ylabel('accuracy')\n",
        "plt.xlabel('epochs')\n",
        "plt.legend(['train', 'test'], loc='lower right')\n",
        "plt.show()"
      ],
      "metadata": {
        "colab": {
          "base_uri": "https://localhost:8080/"
        },
        "id": "HL09tz5IxlDS",
        "outputId": "1be46ec7-6cd8-4569-deaa-163770bf49a4"
      },
      "execution_count": null,
      "outputs": [
        {
          "output_type": "stream",
          "name": "stdout",
          "text": [
            "Best validation accuracy: 0.965\n"
          ]
        },
        {
          "output_type": "display_data",
          "data": {
            "image/png": "[encoded data removed]",
            "text/plain": [
              "<Figure size 432x288 with 1 Axes>"
            ]
          },
          "metadata": {
            "needs_background": "light"
          }
        }
      ]
    },
    {
      "cell_type": "code",
      "source": [
        "# Plot the traing and validation loss\n",
        "plt.plot(history.history['loss'])\n",
        "plt.plot(history.history['val_loss'])\n",
        "plt.title('Model loss')\n",
        "plt.ylabel('Loss')\n",
        "plt.xlabel('Epoch')\n",
        "plt.legend(['Train', 'Val'], loc='upper right')\n",
        "plt.ylim(top=1.2, bottom=0)\n",
        "plt.show()"
      ],
      "metadata": {
        "colab": {
          "base_uri": "https://localhost:8080/"
        },
        "id": "WXp1uX1ivCUE",
        "outputId": "f881fdda-3350-4ac1-d4a2-2c9c6296fdda"
      },
      "execution_count": null,
      "outputs": [
        {
          "output_type": "display_data",
          "data": {
            "image/png": "[encoded data removed]",
            "text/plain": [
              "<Figure size 432x288 with 1 Axes>"
            ]
          },
          "metadata": {
            "needs_background": "light"
          }
        }
      ]
    },
    {
      "cell_type": "markdown",
      "source": [
        "### Baseline Model with Class weights and 2nd convolutional layer\n",
        "\n",
        "This model simply adds a 2nd Conv2D layer with 64 filters and uses the class weight value in the fit method to see the effect it has on the metrics. The number of trainable parameters increases to 2,177,003."
      ],
      "metadata": {
        "id": "ugaTcpTs6wXD"
      }
    },
    {
      "cell_type": "code",
      "source": [
        "# Add a 2nd Conv2D layer with 64 filters\n",
        "def baseline_model2():\n",
        "    model = Sequential()\n",
        "    model.add(Conv2D(32, (3, 3), activation='relu', input_shape=(img_size, img_size, 3)))\n",
        "    model.add(Conv2D(64, (3, 3), activation='relu'))\n",
        "    model.add(Flatten())\n",
        "    model.add(Dense(num_classes, activation='softmax'))\n",
        "    return model\n",
        "\n",
        "model2 = baseline_model2()\n",
        "model2.compile(loss='categorical_crossentropy',\n",
        "              optimizer=Adam(learning_rate=0.001),\n",
        "              metrics=METRICS)\n",
        "model2.summary()"
      ],
      "metadata": {
        "id": "GKFSPR9D1A-5",
        "colab": {
          "base_uri": "https://localhost:8080/"
        },
        "outputId": "94540159-874e-4961-c8e2-0dc7f1ae3b63"
      },
      "execution_count": null,
      "outputs": [
        {
          "output_type": "stream",
          "name": "stdout",
          "text": [
            "Model: \"sequential\"\n",
            "_________________________________________________________________\n",
            " Layer (type)                Output Shape              Param #   \n",
            "=================================================================\n",
            " conv2d (Conv2D)             (None, 30, 30, 32)        896       \n",
            "                                                                 \n",
            " conv2d_1 (Conv2D)           (None, 28, 28, 64)        18496     \n",
            "                                                                 \n",
            " flatten (Flatten)           (None, 50176)             0         \n",
            "                                                                 \n",
            " dense (Dense)               (None, 43)                2157611   \n",
            "                                                                 \n",
            "=================================================================\n",
            "Total params: 2,177,003\n",
            "Trainable params: 2,177,003\n",
            "Non-trainable params: 0\n",
            "_________________________________________________________________\n"
          ]
        }
      ]
    },
    {
      "cell_type": "code",
      "source": [
        "# Fit the model, add the class_weight parameter\n",
        "history2 = model2.fit(\n",
        "    train_generator,\n",
        "    validation_data = test_generator,\n",
        "    class_weight = class_weight,\n",
        "    epochs = 50,\n",
        "    verbose = 0)"
      ],
      "metadata": {
        "id": "uJuPux8M1UNB"
      },
      "execution_count": null,
      "outputs": []
    },
    {
      "cell_type": "code",
      "source": [
        "# Evaluate the model on validation images/labels and observe metrics values\n",
        "baseline_results2 = model2.evaluate(test_generator, batch_size=batch_size, verbose=1)\n",
        "for name, value in zip(model2.metrics_names, baseline_results2):\n",
        "  print(name, ': ', value)"
      ],
      "metadata": {
        "colab": {
          "base_uri": "https://localhost:8080/"
        },
        "id": "jWfqZmax-a5c",
        "outputId": "26c08fa4-bb2e-47e7-8e46-9e9855091449"
      },
      "execution_count": null,
      "outputs": [
        {
          "output_type": "stream",
          "name": "stdout",
          "text": [
            "251/251 [==============================] - 3s 10ms/step - loss: 0.2108 - cat_acc: 0.9755 - precision: 0.9762 - recall: 0.9752 - auc: 0.9940 - top3_acc: 0.9930 - accuracy: 0.9755\n",
            "loss :  0.21076259016990662\n",
            "cat_acc :  0.9754517078399658\n",
            "precision :  0.9761756062507629\n",
            "recall :  0.9752025008201599\n",
            "auc :  0.9940212368965149\n",
            "top3_acc :  0.9930217862129211\n",
            "accuracy :  0.9754517078399658\n"
          ]
        }
      ]
    },
    {
      "cell_type": "code",
      "source": [
        "# Plot the training and validation accuracy\n",
        "\n",
        "print(\"Best validation accuracy: {:0.3f}\".format(np.max(history2.history['val_accuracy'])))\n",
        "\n",
        "plt.plot(history2.history['accuracy'])\n",
        "plt.plot(history2.history['val_accuracy'])\n",
        "plt.ylabel('accuracy')\n",
        "plt.xlabel('epochs')\n",
        "plt.legend(['train', 'test'], loc='lower right')\n",
        "plt.show()"
      ],
      "metadata": {
        "colab": {
          "base_uri": "https://localhost:8080/",
          "height": 296
        },
        "id": "UDzSXT7t2fMJ",
        "outputId": "ecc68d26-a1af-44f6-d2e8-ac061f9d3ff0"
      },
      "execution_count": null,
      "outputs": [
        {
          "output_type": "stream",
          "name": "stdout",
          "text": [
            "Best validation accuracy: 0.976\n"
          ]
        },
        {
          "output_type": "display_data",
          "data": {
            "image/png": "[encoded data removed]",
            "text/plain": [
              "<Figure size 432x288 with 1 Axes>"
            ]
          },
          "metadata": {
            "needs_background": "light"
          }
        }
      ]
    },
    {
      "cell_type": "code",
      "source": [
        "# Plot the training and validation loss\n",
        "\n",
        "plt.plot(history2.history['loss'])\n",
        "plt.plot(history2.history['val_loss'])\n",
        "plt.title('Model loss')\n",
        "plt.ylabel('Loss')\n",
        "plt.xlabel('Epoch')\n",
        "plt.legend(['Train', 'Val'], loc='upper right')\n",
        "plt.ylim(top=1.2, bottom=0)\n",
        "plt.show()"
      ],
      "metadata": {
        "colab": {
          "base_uri": "https://localhost:8080/",
          "height": 295
        },
        "id": "KMO_nXN96D8d",
        "outputId": "219b1646-74f3-4f33-9448-130ee0fb22eb"
      },
      "execution_count": null,
      "outputs": [
        {
          "output_type": "display_data",
          "data": {
            "image/png": "[encoded data removed]",
            "text/plain": [
              "<Figure size 432x288 with 1 Axes>"
            ]
          },
          "metadata": {
            "needs_background": "light"
          }
        }
      ]
    },
    {
      "cell_type": "markdown",
      "source": [
        "### Baseline Model with MaxPooling and Dropout layers\n",
        "\n",
        "This model adds a MaxPooling2D and Dropout layer to help combat overfitting that was evident in the last model. Note how the MaxPooling2D and Dropout layers reduce the amount of trainable parameters from 2,177,003 to 558,827."
      ],
      "metadata": {
        "id": "Q0kDarIn-z1f"
      }
    },
    {
      "cell_type": "code",
      "source": [
        "# reset class weight\n",
        "# Calculate the class weight by dividing each class count by the sum of all class counts\n",
        "class_weight = {c:dist[c]/np.sum(dist) for c in classes}\n",
        "\n",
        "# add MaxPooling2D and Dropout Layers\n",
        "def baseline_model3():\n",
        "    model = Sequential()\n",
        "    model.add(Conv2D(32, (3, 3), activation='relu', input_shape=(img_size, img_size, 3)))\n",
        "    model.add(Conv2D(64, (3, 3), activation='relu'))\n",
        "    model.add(MaxPooling2D(pool_size=(2,2)))\n",
        "    model.add(Flatten())\n",
        "    model.add(Dropout(0.4))\n",
        "    model.add(Dense(num_classes, activation='softmax'))\n",
        "    return model\n",
        "\n",
        "model3 = baseline_model3()\n",
        "model3.compile(loss='categorical_crossentropy',\n",
        "              optimizer=Adam(learning_rate=0.001),\n",
        "              metrics=METRICS)\n",
        "model3.summary()"
      ],
      "metadata": {
        "id": "S0riqFV5AVqW",
        "colab": {
          "base_uri": "https://localhost:8080/"
        },
        "outputId": "446e07f0-6e21-49f0-edfd-55d3132068e4"
      },
      "execution_count": null,
      "outputs": [
        {
          "output_type": "stream",
          "name": "stdout",
          "text": [
            "Model: \"sequential_2\"\n",
            "_________________________________________________________________\n",
            " Layer (type)                Output Shape              Param #   \n",
            "=================================================================\n",
            " conv2d_3 (Conv2D)           (None, 30, 30, 32)        896       \n",
            "                                                                 \n",
            " conv2d_4 (Conv2D)           (None, 28, 28, 64)        18496     \n",
            "                                                                 \n",
            " max_pooling2d (MaxPooling2D  (None, 14, 14, 64)       0         \n",
            " )                                                               \n",
            "                                                                 \n",
            " flatten_2 (Flatten)         (None, 12544)             0         \n",
            "                                                                 \n",
            " dropout (Dropout)           (None, 12544)             0         \n",
            "                                                                 \n",
            " dense_2 (Dense)             (None, 43)                539435    \n",
            "                                                                 \n",
            "=================================================================\n",
            "Total params: 558,827\n",
            "Trainable params: 558,827\n",
            "Non-trainable params: 0\n",
            "_________________________________________________________________\n"
          ]
        }
      ]
    },
    {
      "cell_type": "code",
      "source": [
        "# Fit the model\n",
        "history3 = model3.fit(\n",
        "    train_generator,\n",
        "    validation_data = test_generator,\n",
        "    class_weight = class_weight,\n",
        "    epochs = 50,\n",
        "    verbose = 0)"
      ],
      "metadata": {
        "id": "i_aaBmUyAW5C"
      },
      "execution_count": null,
      "outputs": []
    },
    {
      "cell_type": "code",
      "source": [
        "# Evaluate the model based on test images/labels and observe the metrics\n",
        "baseline_results3 = model3.evaluate(test_generator, batch_size=batch_size, verbose=1)\n",
        "for name, value in zip(model3.metrics_names, baseline_results3):\n",
        "  print(name, ': ', value)"
      ],
      "metadata": {
        "colab": {
          "base_uri": "https://localhost:8080/"
        },
        "id": "3KSV89MJAW_C",
        "outputId": "b5ae27cd-4300-48f4-a461-c99de9bf30d5"
      },
      "execution_count": null,
      "outputs": [
        {
          "output_type": "stream",
          "name": "stdout",
          "text": [
            "244/244 [==============================] - 2s 10ms/step - loss: 0.1058 - cat_acc: 0.9813 - precision: 0.9829 - recall: 0.9797 - auc: 0.9968 - top3_acc: 0.9951 - accuracy: 0.9813\n",
            "loss :  0.10579825192689896\n",
            "cat_acc :  0.9812820553779602\n",
            "precision :  0.9828938841819763\n",
            "recall :  0.9797435998916626\n",
            "auc :  0.9967831373214722\n",
            "top3_acc :  0.9951282143592834\n",
            "accuracy :  0.9812820553779602\n"
          ]
        }
      ]
    },
    {
      "cell_type": "code",
      "source": [
        "# Plot the training and validiation accuracy\n",
        "print(\"Best validation accuracy: {:0.3f}\".format(np.max(history3.history['val_accuracy'])))\n",
        "\n",
        "plt.plot(history3.history['accuracy'])\n",
        "plt.plot(history3.history['val_accuracy'])\n",
        "plt.ylabel('accuracy')\n",
        "plt.xlabel('epochs')\n",
        "plt.legend(['train', 'test'], loc='lower right')\n",
        "plt.show()"
      ],
      "metadata": {
        "colab": {
          "base_uri": "https://localhost:8080/",
          "height": 296
        },
        "id": "P-_wPB9OCwLr",
        "outputId": "6f762292-c9ec-49d4-d1c8-78c421f5c553"
      },
      "execution_count": null,
      "outputs": [
        {
          "output_type": "stream",
          "name": "stdout",
          "text": [
            "Best validation accuracy: 0.984\n"
          ]
        },
        {
          "output_type": "display_data",
          "data": {
            "image/png": "[encoded data removed]",
            "text/plain": [
              "<Figure size 432x288 with 1 Axes>"
            ]
          },
          "metadata": {
            "needs_background": "light"
          }
        }
      ]
    },
    {
      "cell_type": "code",
      "source": [
        "# Plot the training and validation loss\n",
        "plt.plot(history3.history['loss'])\n",
        "plt.plot(history3.history['val_loss'])\n",
        "plt.title('Model loss')\n",
        "plt.ylabel('Loss')\n",
        "plt.xlabel('Epoch')\n",
        "plt.legend(['Train', 'Val'], loc='upper right')\n",
        "plt.ylim(top=1.2, bottom=0)\n",
        "plt.show()"
      ],
      "metadata": {
        "colab": {
          "base_uri": "https://localhost:8080/",
          "height": 295
        },
        "id": "KFbuN2Cz-jPp",
        "outputId": "50734b72-da1c-4b38-9f07-68a4e0a5509a"
      },
      "execution_count": null,
      "outputs": [
        {
          "output_type": "display_data",
          "data": {
            "image/png": "[encoded data removed]",
            "text/plain": [
              "<Figure size 432x288 with 1 Axes>"
            ]
          },
          "metadata": {
            "needs_background": "light"
          }
        }
      ]
    },
    {
      "cell_type": "markdown",
      "source": [
        "### Model using a pre-trained Convnet (VGG16) and data augmentation\n",
        "\n",
        "I was really interested to try out using a pretrained Convnet. This technique is mentioned by Chollet in his Deep Learning for Python book. He mentions using pre-trained models for instances where there is not a lot of training data. This ended up being sort of a waste of time as the metrics are awful. It makes sense as this approach would be good for more general image classification. This dataset is very specific in that they are all traffic signs so out of all the millions of images the VGG16 Convnet was trained on (ImageNet database), there probably was very little to no images of German traffic signs. I still wanted to include the code for you to review."
      ],
      "metadata": {
        "id": "BQ1GHfeDEzFp"
      }
    },
    {
      "cell_type": "code",
      "source": [
        "from tensorflow.keras.applications import VGG16\n",
        "\n",
        "conv_base = VGG16(weights='imagenet',\n",
        "                  include_top=False,\n",
        "                  input_shape=(img_size, img_size, 3))"
      ],
      "metadata": {
        "colab": {
          "base_uri": "https://localhost:8080/"
        },
        "id": "KUPgA7CdE5tz",
        "outputId": "06facedd-99d0-4cc3-f139-a1f56f403276"
      },
      "execution_count": null,
      "outputs": [
        {
          "output_type": "stream",
          "name": "stdout",
          "text": [
            "Downloading data from https://storage.googleapis.com/tensorflow/keras-applications/vgg16/vgg16_weights_tf_dim_ordering_tf_kernels_notop.h5\n",
            "58892288/58889256 [==============================] - 1s 0us/step\n",
            "58900480/58889256 [==============================] - 1s 0us/step\n"
          ]
        }
      ]
    },
    {
      "cell_type": "code",
      "source": [
        "conv_base.summary()"
      ],
      "metadata": {
        "colab": {
          "base_uri": "https://localhost:8080/"
        },
        "id": "hkRcRibZHJos",
        "outputId": "95096f91-b702-4da6-f6cb-4e2b5e3d0e2c"
      },
      "execution_count": null,
      "outputs": [
        {
          "output_type": "stream",
          "name": "stdout",
          "text": [
            "Model: \"vgg16\"\n",
            "_________________________________________________________________\n",
            " Layer (type)                Output Shape              Param #   \n",
            "=================================================================\n",
            " input_1 (InputLayer)        [(None, 32, 32, 3)]       0         \n",
            "                                                                 \n",
            " block1_conv1 (Conv2D)       (None, 32, 32, 64)        1792      \n",
            "                                                                 \n",
            " block1_conv2 (Conv2D)       (None, 32, 32, 64)        36928     \n",
            "                                                                 \n",
            " block1_pool (MaxPooling2D)  (None, 16, 16, 64)        0         \n",
            "                                                                 \n",
            " block2_conv1 (Conv2D)       (None, 16, 16, 128)       73856     \n",
            "                                                                 \n",
            " block2_conv2 (Conv2D)       (None, 16, 16, 128)       147584    \n",
            "                                                                 \n",
            " block2_pool (MaxPooling2D)  (None, 8, 8, 128)         0         \n",
            "                                                                 \n",
            " block3_conv1 (Conv2D)       (None, 8, 8, 256)         295168    \n",
            "                                                                 \n",
            " block3_conv2 (Conv2D)       (None, 8, 8, 256)         590080    \n",
            "                                                                 \n",
            " block3_conv3 (Conv2D)       (None, 8, 8, 256)         590080    \n",
            "                                                                 \n",
            " block3_pool (MaxPooling2D)  (None, 4, 4, 256)         0         \n",
            "                                                                 \n",
            " block4_conv1 (Conv2D)       (None, 4, 4, 512)         1180160   \n",
            "                                                                 \n",
            " block4_conv2 (Conv2D)       (None, 4, 4, 512)         2359808   \n",
            "                                                                 \n",
            " block4_conv3 (Conv2D)       (None, 4, 4, 512)         2359808   \n",
            "                                                                 \n",
            " block4_pool (MaxPooling2D)  (None, 2, 2, 512)         0         \n",
            "                                                                 \n",
            " block5_conv1 (Conv2D)       (None, 2, 2, 512)         2359808   \n",
            "                                                                 \n",
            " block5_conv2 (Conv2D)       (None, 2, 2, 512)         2359808   \n",
            "                                                                 \n",
            " block5_conv3 (Conv2D)       (None, 2, 2, 512)         2359808   \n",
            "                                                                 \n",
            " block5_pool (MaxPooling2D)  (None, 1, 1, 512)         0         \n",
            "                                                                 \n",
            "=================================================================\n",
            "Total params: 14,714,688\n",
            "Trainable params: 14,714,688\n",
            "Non-trainable params: 0\n",
            "_________________________________________________________________\n"
          ]
        }
      ]
    },
    {
      "cell_type": "code",
      "source": [
        "def model4():\n",
        "  model = Sequential()\n",
        "  model.add(conv_base)\n",
        "  model.add(Flatten())\n",
        "  model.add(Dense(128, activation='relu'))\n",
        "  model.add(Dense(num_classes, activation='softmax'))\n",
        "  return model\n",
        "\n",
        "model4 = model4()"
      ],
      "metadata": {
        "id": "hOM2kr_SE5-5"
      },
      "execution_count": null,
      "outputs": []
    },
    {
      "cell_type": "code",
      "source": [
        "print('This is the number of trainable weights before freezing the conv base:', len(model4.trainable_weights))"
      ],
      "metadata": {
        "id": "KFI_GcoiE6Uz",
        "colab": {
          "base_uri": "https://localhost:8080/"
        },
        "outputId": "2e6d56f8-1690-4f32-a72e-774926290590"
      },
      "execution_count": null,
      "outputs": [
        {
          "output_type": "stream",
          "name": "stdout",
          "text": [
            "This is the number of trainable weights before freezing the conv base: 30\n"
          ]
        }
      ]
    },
    {
      "cell_type": "code",
      "source": [
        "conv_base.trainable = False\n",
        "print('This is the number of trainable weights after freezing the conv base:', len(model4.trainable_weights))"
      ],
      "metadata": {
        "colab": {
          "base_uri": "https://localhost:8080/"
        },
        "id": "-KGKZ_7EuDHn",
        "outputId": "714ed3c8-b9ef-4488-f7bf-d5bd526ca164"
      },
      "execution_count": null,
      "outputs": [
        {
          "output_type": "stream",
          "name": "stdout",
          "text": [
            "This is the number of trainable weights after freezing the conv base: 4\n"
          ]
        }
      ]
    },
    {
      "cell_type": "code",
      "source": [
        "batch_size = 256\n",
        "train_datagen = ImageDataGenerator(\n",
        "    rescale = 1./255.,\n",
        "    rotation_range = 5,\n",
        "    width_shift_range = 0.1,\n",
        "    height_shift_range = 0.1,\n",
        ") \n",
        "\n",
        "test_datagen = ImageDataGenerator(rescale = 1./255.)\n",
        "\n",
        "train_generator = train_datagen.flow(\n",
        "    np.array(x_train),\n",
        "    to_categorical(y_train),\n",
        "    batch_size = batch_size)\n",
        "test_generator = test_datagen.flow(\n",
        "    np.array(x_test),\n",
        "    to_categorical(y_test),\n",
        "    batch_size = batch_size\n",
        ")"
      ],
      "metadata": {
        "id": "twz4t0VduZxP"
      },
      "execution_count": null,
      "outputs": []
    },
    {
      "cell_type": "code",
      "source": [
        "import functools\n",
        "top3_acc = functools.partial(keras.metrics.top_k_categorical_accuracy, k=3)\n",
        "top3_acc.__name__ = 'top3_acc'\n",
        "METRICS = [\n",
        "      keras.metrics.CategoricalAccuracy(name='cat_acc'),\n",
        "      keras.metrics.Precision(name='precision'),\n",
        "      keras.metrics.Recall(name='recall'),\n",
        "      keras.metrics.AUC(name='auc'),\n",
        "      keras.metrics.AUC(name='prc', curve='PR'), # precision-recall curve\n",
        "      top3_acc,\n",
        "      'accuracy',\n",
        "]"
      ],
      "metadata": {
        "id": "IXe5AkAzwQB4"
      },
      "execution_count": null,
      "outputs": []
    },
    {
      "cell_type": "code",
      "source": [
        "model4.compile(optimizer=Adam(learning_rate=0.001),\n",
        "               loss='categorical_crossentropy',\n",
        "               metrics=METRICS)\n",
        "history4 = model4.fit_generator(\n",
        "    train_generator,\n",
        "    epochs = 50,\n",
        "    validation_data = test_generator,\n",
        "    class_weight = class_weight\n",
        ")"
      ],
      "metadata": {
        "colab": {
          "base_uri": "https://localhost:8080/"
        },
        "id": "TXYXks0KuZ-N",
        "outputId": "ee78eaf4-47eb-4f18-b9ed-f21af8b9a774"
      },
      "execution_count": null,
      "outputs": [
        {
          "output_type": "stream",
          "name": "stdout",
          "text": [
            "Epoch 1/50\n",
            "123/123 [==============================] - 33s 233ms/step - loss: 0.1138 - cat_acc: 0.0551 - precision: 0.0000e+00 - recall: 0.0000e+00 - auc: 0.6963 - prc: 0.0460 - top3_acc: 0.1634 - accuracy: 0.0551 - val_loss: 3.6557 - val_cat_acc: 0.0547 - val_precision: 0.0000e+00 - val_recall: 0.0000e+00 - val_auc: 0.7033 - val_prc: 0.0461 - val_top3_acc: 0.1608 - val_accuracy: 0.0547\n",
            "Epoch 2/50\n",
            "123/123 [==============================] - 25s 204ms/step - loss: 0.1116 - cat_acc: 0.0551 - precision: 0.0000e+00 - recall: 0.0000e+00 - auc: 0.7037 - prc: 0.0466 - top3_acc: 0.1661 - accuracy: 0.0551 - val_loss: 3.6632 - val_cat_acc: 0.0547 - val_precision: 0.0000e+00 - val_recall: 0.0000e+00 - val_auc: 0.7043 - val_prc: 0.0465 - val_top3_acc: 0.1660 - val_accuracy: 0.0547\n",
            "Epoch 3/50\n",
            "123/123 [==============================] - 25s 202ms/step - loss: 0.1116 - cat_acc: 0.0570 - precision: 0.0000e+00 - recall: 0.0000e+00 - auc: 0.7047 - prc: 0.0469 - top3_acc: 0.1681 - accuracy: 0.0570 - val_loss: 3.6613 - val_cat_acc: 0.0562 - val_precision: 0.0000e+00 - val_recall: 0.0000e+00 - val_auc: 0.7037 - val_prc: 0.0467 - val_top3_acc: 0.1654 - val_accuracy: 0.0562\n",
            "Epoch 4/50\n",
            "123/123 [==============================] - 24s 197ms/step - loss: 0.1115 - cat_acc: 0.0561 - precision: 0.0000e+00 - recall: 0.0000e+00 - auc: 0.7042 - prc: 0.0468 - top3_acc: 0.1673 - accuracy: 0.0561 - val_loss: 3.6875 - val_cat_acc: 0.0547 - val_precision: 0.0000e+00 - val_recall: 0.0000e+00 - val_auc: 0.7029 - val_prc: 0.0465 - val_top3_acc: 0.1645 - val_accuracy: 0.0547\n",
            "Epoch 5/50\n",
            "123/123 [==============================] - 25s 201ms/step - loss: 0.1115 - cat_acc: 0.0565 - precision: 0.0000e+00 - recall: 0.0000e+00 - auc: 0.7038 - prc: 0.0469 - top3_acc: 0.1671 - accuracy: 0.0565 - val_loss: 3.6759 - val_cat_acc: 0.0562 - val_precision: 0.0000e+00 - val_recall: 0.0000e+00 - val_auc: 0.7032 - val_prc: 0.0464 - val_top3_acc: 0.1617 - val_accuracy: 0.0562\n",
            "Epoch 6/50\n",
            "123/123 [==============================] - 25s 201ms/step - loss: 0.1115 - cat_acc: 0.0571 - precision: 0.0000e+00 - recall: 0.0000e+00 - auc: 0.7043 - prc: 0.0471 - top3_acc: 0.1674 - accuracy: 0.0571 - val_loss: 3.6643 - val_cat_acc: 0.0547 - val_precision: 0.0000e+00 - val_recall: 0.0000e+00 - val_auc: 0.7030 - val_prc: 0.0472 - val_top3_acc: 0.1562 - val_accuracy: 0.0547\n",
            "Epoch 7/50\n",
            "123/123 [==============================] - 24s 197ms/step - loss: 0.1115 - cat_acc: 0.0568 - precision: 0.0000e+00 - recall: 0.0000e+00 - auc: 0.7043 - prc: 0.0469 - top3_acc: 0.1683 - accuracy: 0.0568 - val_loss: 3.6653 - val_cat_acc: 0.0562 - val_precision: 0.0000e+00 - val_recall: 0.0000e+00 - val_auc: 0.7044 - val_prc: 0.0473 - val_top3_acc: 0.1634 - val_accuracy: 0.0562\n",
            "Epoch 8/50\n",
            "123/123 [==============================] - 25s 200ms/step - loss: 0.1115 - cat_acc: 0.0559 - precision: 0.0000e+00 - recall: 0.0000e+00 - auc: 0.7045 - prc: 0.0471 - top3_acc: 0.1681 - accuracy: 0.0559 - val_loss: 3.6767 - val_cat_acc: 0.0626 - val_precision: 0.0000e+00 - val_recall: 0.0000e+00 - val_auc: 0.7024 - val_prc: 0.0458 - val_top3_acc: 0.1582 - val_accuracy: 0.0626\n",
            "Epoch 9/50\n",
            "123/123 [==============================] - 24s 197ms/step - loss: 0.1115 - cat_acc: 0.0558 - precision: 0.0000e+00 - recall: 0.0000e+00 - auc: 0.7048 - prc: 0.0472 - top3_acc: 0.1677 - accuracy: 0.0558 - val_loss: 3.6563 - val_cat_acc: 0.0571 - val_precision: 0.0000e+00 - val_recall: 0.0000e+00 - val_auc: 0.7038 - val_prc: 0.0467 - val_top3_acc: 0.1639 - val_accuracy: 0.0571\n",
            "Epoch 10/50\n",
            "123/123 [==============================] - 25s 205ms/step - loss: 0.1115 - cat_acc: 0.0573 - precision: 0.0000e+00 - recall: 0.0000e+00 - auc: 0.7049 - prc: 0.0472 - top3_acc: 0.1690 - accuracy: 0.0573 - val_loss: 3.6501 - val_cat_acc: 0.0547 - val_precision: 0.0000e+00 - val_recall: 0.0000e+00 - val_auc: 0.7038 - val_prc: 0.0465 - val_top3_acc: 0.1664 - val_accuracy: 0.0547\n",
            "Epoch 11/50\n",
            "123/123 [==============================] - 25s 206ms/step - loss: 0.1115 - cat_acc: 0.0563 - precision: 0.0000e+00 - recall: 0.0000e+00 - auc: 0.7044 - prc: 0.0472 - top3_acc: 0.1690 - accuracy: 0.0563 - val_loss: 3.6590 - val_cat_acc: 0.0499 - val_precision: 0.0000e+00 - val_recall: 0.0000e+00 - val_auc: 0.7024 - val_prc: 0.0456 - val_top3_acc: 0.1686 - val_accuracy: 0.0499\n",
            "Epoch 12/50\n",
            "123/123 [==============================] - 24s 196ms/step - loss: 0.1115 - cat_acc: 0.0564 - precision: 0.0000e+00 - recall: 0.0000e+00 - auc: 0.7049 - prc: 0.0472 - top3_acc: 0.1673 - accuracy: 0.0564 - val_loss: 3.6495 - val_cat_acc: 0.0562 - val_precision: 0.0000e+00 - val_recall: 0.0000e+00 - val_auc: 0.7054 - val_prc: 0.0469 - val_top3_acc: 0.1664 - val_accuracy: 0.0562\n",
            "Epoch 13/50\n",
            "123/123 [==============================] - 25s 206ms/step - loss: 0.1114 - cat_acc: 0.0573 - precision: 0.0000e+00 - recall: 0.0000e+00 - auc: 0.7047 - prc: 0.0474 - top3_acc: 0.1673 - accuracy: 0.0573 - val_loss: 3.6686 - val_cat_acc: 0.0556 - val_precision: 0.0000e+00 - val_recall: 0.0000e+00 - val_auc: 0.7036 - val_prc: 0.0467 - val_top3_acc: 0.1664 - val_accuracy: 0.0556\n",
            "Epoch 14/50\n",
            "123/123 [==============================] - 24s 198ms/step - loss: 0.1114 - cat_acc: 0.0561 - precision: 0.0000e+00 - recall: 0.0000e+00 - auc: 0.7049 - prc: 0.0473 - top3_acc: 0.1693 - accuracy: 0.0561 - val_loss: 3.6713 - val_cat_acc: 0.0603 - val_precision: 0.0000e+00 - val_recall: 0.0000e+00 - val_auc: 0.7052 - val_prc: 0.0493 - val_top3_acc: 0.1664 - val_accuracy: 0.0603\n",
            "Epoch 15/50\n",
            "123/123 [==============================] - 25s 205ms/step - loss: 0.1114 - cat_acc: 0.0575 - precision: 0.0000e+00 - recall: 0.0000e+00 - auc: 0.7052 - prc: 0.0474 - top3_acc: 0.1721 - accuracy: 0.0575 - val_loss: 3.6610 - val_cat_acc: 0.0547 - val_precision: 0.0000e+00 - val_recall: 0.0000e+00 - val_auc: 0.7045 - val_prc: 0.0478 - val_top3_acc: 0.1664 - val_accuracy: 0.0547\n",
            "Epoch 16/50\n",
            "123/123 [==============================] - 25s 206ms/step - loss: 0.1114 - cat_acc: 0.0574 - precision: 0.0000e+00 - recall: 0.0000e+00 - auc: 0.7049 - prc: 0.0475 - top3_acc: 0.1697 - accuracy: 0.0574 - val_loss: 3.6597 - val_cat_acc: 0.0562 - val_precision: 0.0000e+00 - val_recall: 0.0000e+00 - val_auc: 0.7060 - val_prc: 0.0473 - val_top3_acc: 0.1964 - val_accuracy: 0.0562\n",
            "Epoch 17/50\n",
            "123/123 [==============================] - 24s 199ms/step - loss: 0.1114 - cat_acc: 0.0567 - precision: 0.0000e+00 - recall: 0.0000e+00 - auc: 0.7052 - prc: 0.0474 - top3_acc: 0.1713 - accuracy: 0.0567 - val_loss: 3.6497 - val_cat_acc: 0.0565 - val_precision: 0.0000e+00 - val_recall: 0.0000e+00 - val_auc: 0.7046 - val_prc: 0.0496 - val_top3_acc: 0.1608 - val_accuracy: 0.0565\n",
            "Epoch 18/50\n",
            "123/123 [==============================] - 24s 195ms/step - loss: 0.1113 - cat_acc: 0.0581 - precision: 0.0000e+00 - recall: 0.0000e+00 - auc: 0.7054 - prc: 0.0477 - top3_acc: 0.1716 - accuracy: 0.0581 - val_loss: 3.6453 - val_cat_acc: 0.0547 - val_precision: 0.0000e+00 - val_recall: 0.0000e+00 - val_auc: 0.7047 - val_prc: 0.0483 - val_top3_acc: 0.1645 - val_accuracy: 0.0547\n",
            "Epoch 19/50\n",
            "123/123 [==============================] - 24s 193ms/step - loss: 0.1113 - cat_acc: 0.0574 - precision: 0.0000e+00 - recall: 0.0000e+00 - auc: 0.7055 - prc: 0.0477 - top3_acc: 0.1724 - accuracy: 0.0574 - val_loss: 3.6674 - val_cat_acc: 0.0536 - val_precision: 0.0000e+00 - val_recall: 0.0000e+00 - val_auc: 0.7051 - val_prc: 0.0474 - val_top3_acc: 0.1598 - val_accuracy: 0.0536\n",
            "Epoch 20/50\n",
            "123/123 [==============================] - 25s 206ms/step - loss: 0.1114 - cat_acc: 0.0577 - precision: 0.0000e+00 - recall: 0.0000e+00 - auc: 0.7055 - prc: 0.0476 - top3_acc: 0.1727 - accuracy: 0.0577 - val_loss: 3.6696 - val_cat_acc: 0.0547 - val_precision: 0.0000e+00 - val_recall: 0.0000e+00 - val_auc: 0.7050 - val_prc: 0.0480 - val_top3_acc: 0.1645 - val_accuracy: 0.0547\n",
            "Epoch 21/50\n",
            "123/123 [==============================] - 25s 207ms/step - loss: 0.1113 - cat_acc: 0.0576 - precision: 0.0000e+00 - recall: 0.0000e+00 - auc: 0.7059 - prc: 0.0477 - top3_acc: 0.1685 - accuracy: 0.0576 - val_loss: 3.6664 - val_cat_acc: 0.0562 - val_precision: 0.0000e+00 - val_recall: 0.0000e+00 - val_auc: 0.7043 - val_prc: 0.0472 - val_top3_acc: 0.1750 - val_accuracy: 0.0562\n",
            "Epoch 22/50\n",
            "123/123 [==============================] - 25s 204ms/step - loss: 0.1113 - cat_acc: 0.0585 - precision: 0.0000e+00 - recall: 0.0000e+00 - auc: 0.7056 - prc: 0.0476 - top3_acc: 0.1702 - accuracy: 0.0585 - val_loss: 3.6613 - val_cat_acc: 0.0547 - val_precision: 0.0000e+00 - val_recall: 0.0000e+00 - val_auc: 0.7049 - val_prc: 0.0489 - val_top3_acc: 0.1664 - val_accuracy: 0.0547\n",
            "Epoch 23/50\n",
            "123/123 [==============================] - 24s 196ms/step - loss: 0.1113 - cat_acc: 0.0589 - precision: 0.0000e+00 - recall: 0.0000e+00 - auc: 0.7059 - prc: 0.0479 - top3_acc: 0.1715 - accuracy: 0.0589 - val_loss: 3.6475 - val_cat_acc: 0.0703 - val_precision: 0.0000e+00 - val_recall: 0.0000e+00 - val_auc: 0.7064 - val_prc: 0.0483 - val_top3_acc: 0.1664 - val_accuracy: 0.0703\n",
            "Epoch 24/50\n",
            "123/123 [==============================] - 25s 205ms/step - loss: 0.1113 - cat_acc: 0.0586 - precision: 0.0000e+00 - recall: 0.0000e+00 - auc: 0.7061 - prc: 0.0481 - top3_acc: 0.1732 - accuracy: 0.0586 - val_loss: 3.6641 - val_cat_acc: 0.0562 - val_precision: 0.0000e+00 - val_recall: 0.0000e+00 - val_auc: 0.7058 - val_prc: 0.0481 - val_top3_acc: 0.1664 - val_accuracy: 0.0562\n",
            "Epoch 25/50\n",
            "123/123 [==============================] - 24s 196ms/step - loss: 0.1112 - cat_acc: 0.0564 - precision: 0.0000e+00 - recall: 0.0000e+00 - auc: 0.7063 - prc: 0.0481 - top3_acc: 0.1724 - accuracy: 0.0564 - val_loss: 3.6396 - val_cat_acc: 0.0562 - val_precision: 0.0000e+00 - val_recall: 0.0000e+00 - val_auc: 0.7056 - val_prc: 0.0496 - val_top3_acc: 0.1645 - val_accuracy: 0.0562\n",
            "Epoch 26/50\n",
            "123/123 [==============================] - 25s 204ms/step - loss: 0.1112 - cat_acc: 0.0598 - precision: 0.0000e+00 - recall: 0.0000e+00 - auc: 0.7061 - prc: 0.0484 - top3_acc: 0.1731 - accuracy: 0.0598 - val_loss: 3.6317 - val_cat_acc: 0.0583 - val_precision: 0.0000e+00 - val_recall: 0.0000e+00 - val_auc: 0.7087 - val_prc: 0.0501 - val_top3_acc: 0.1608 - val_accuracy: 0.0583\n",
            "Epoch 27/50\n",
            "123/123 [==============================] - 25s 200ms/step - loss: 0.1112 - cat_acc: 0.0605 - precision: 0.0000e+00 - recall: 0.0000e+00 - auc: 0.7067 - prc: 0.0487 - top3_acc: 0.1728 - accuracy: 0.0605 - val_loss: 3.6435 - val_cat_acc: 0.0547 - val_precision: 0.0000e+00 - val_recall: 0.0000e+00 - val_auc: 0.7079 - val_prc: 0.0498 - val_top3_acc: 0.1663 - val_accuracy: 0.0547\n",
            "Epoch 28/50\n",
            "123/123 [==============================] - 24s 196ms/step - loss: 0.1111 - cat_acc: 0.0598 - precision: 0.0000e+00 - recall: 0.0000e+00 - auc: 0.7076 - prc: 0.0491 - top3_acc: 0.1774 - accuracy: 0.0598 - val_loss: 3.6523 - val_cat_acc: 0.0562 - val_precision: 0.0000e+00 - val_recall: 0.0000e+00 - val_auc: 0.7073 - val_prc: 0.0505 - val_top3_acc: 0.1664 - val_accuracy: 0.0562\n",
            "Epoch 29/50\n",
            "123/123 [==============================] - 24s 197ms/step - loss: 0.1111 - cat_acc: 0.0581 - precision: 0.0000e+00 - recall: 0.0000e+00 - auc: 0.7079 - prc: 0.0489 - top3_acc: 0.1733 - accuracy: 0.0581 - val_loss: 3.6677 - val_cat_acc: 0.0562 - val_precision: 0.0000e+00 - val_recall: 0.0000e+00 - val_auc: 0.7067 - val_prc: 0.0502 - val_top3_acc: 0.1608 - val_accuracy: 0.0562\n",
            "Epoch 30/50\n",
            "123/123 [==============================] - 24s 196ms/step - loss: 0.1110 - cat_acc: 0.0637 - precision: 0.0000e+00 - recall: 0.0000e+00 - auc: 0.7081 - prc: 0.0496 - top3_acc: 0.1776 - accuracy: 0.0637 - val_loss: 3.6179 - val_cat_acc: 0.0547 - val_precision: 0.0000e+00 - val_recall: 0.0000e+00 - val_auc: 0.7090 - val_prc: 0.0499 - val_top3_acc: 0.1689 - val_accuracy: 0.0547\n",
            "Epoch 31/50\n",
            "123/123 [==============================] - 25s 200ms/step - loss: 0.1110 - cat_acc: 0.0614 - precision: 0.0000e+00 - recall: 0.0000e+00 - auc: 0.7081 - prc: 0.0495 - top3_acc: 0.1747 - accuracy: 0.0614 - val_loss: 3.6324 - val_cat_acc: 0.0556 - val_precision: 0.0000e+00 - val_recall: 0.0000e+00 - val_auc: 0.7092 - val_prc: 0.0491 - val_top3_acc: 0.1781 - val_accuracy: 0.0556\n",
            "Epoch 32/50\n",
            "123/123 [==============================] - 24s 197ms/step - loss: 0.1109 - cat_acc: 0.0628 - precision: 0.0000e+00 - recall: 0.0000e+00 - auc: 0.7084 - prc: 0.0498 - top3_acc: 0.1795 - accuracy: 0.0628 - val_loss: 3.6282 - val_cat_acc: 0.0666 - val_precision: 0.0000e+00 - val_recall: 0.0000e+00 - val_auc: 0.7099 - val_prc: 0.0514 - val_top3_acc: 0.1937 - val_accuracy: 0.0666\n",
            "Epoch 33/50\n",
            "123/123 [==============================] - 24s 196ms/step - loss: 0.1109 - cat_acc: 0.0634 - precision: 0.0000e+00 - recall: 0.0000e+00 - auc: 0.7091 - prc: 0.0503 - top3_acc: 0.1806 - accuracy: 0.0634 - val_loss: 3.6320 - val_cat_acc: 0.0622 - val_precision: 0.0000e+00 - val_recall: 0.0000e+00 - val_auc: 0.7106 - val_prc: 0.0503 - val_top3_acc: 0.1664 - val_accuracy: 0.0622\n",
            "Epoch 34/50\n",
            "123/123 [==============================] - 25s 201ms/step - loss: 0.1108 - cat_acc: 0.0619 - precision: 0.0000e+00 - recall: 0.0000e+00 - auc: 0.7097 - prc: 0.0505 - top3_acc: 0.1807 - accuracy: 0.0619 - val_loss: 3.6393 - val_cat_acc: 0.0693 - val_precision: 0.0000e+00 - val_recall: 0.0000e+00 - val_auc: 0.7113 - val_prc: 0.0523 - val_top3_acc: 0.2013 - val_accuracy: 0.0693\n",
            "Epoch 35/50\n",
            "123/123 [==============================] - 25s 205ms/step - loss: 0.1107 - cat_acc: 0.0641 - precision: 0.0000e+00 - recall: 0.0000e+00 - auc: 0.7104 - prc: 0.0508 - top3_acc: 0.1823 - accuracy: 0.0641 - val_loss: 3.6116 - val_cat_acc: 0.0558 - val_precision: 0.0000e+00 - val_recall: 0.0000e+00 - val_auc: 0.7126 - val_prc: 0.0518 - val_top3_acc: 0.1667 - val_accuracy: 0.0558\n",
            "Epoch 36/50\n",
            "123/123 [==============================] - 26s 209ms/step - loss: 0.1106 - cat_acc: 0.0651 - precision: 0.0000e+00 - recall: 0.0000e+00 - auc: 0.7104 - prc: 0.0512 - top3_acc: 0.1822 - accuracy: 0.0651 - val_loss: 3.6017 - val_cat_acc: 0.0705 - val_precision: 0.0000e+00 - val_recall: 0.0000e+00 - val_auc: 0.7118 - val_prc: 0.0524 - val_top3_acc: 0.1814 - val_accuracy: 0.0705\n",
            "Epoch 37/50\n",
            "123/123 [==============================] - 26s 208ms/step - loss: 0.1105 - cat_acc: 0.0648 - precision: 0.0000e+00 - recall: 0.0000e+00 - auc: 0.7114 - prc: 0.0512 - top3_acc: 0.1843 - accuracy: 0.0648 - val_loss: 3.6447 - val_cat_acc: 0.0547 - val_precision: 0.0000e+00 - val_recall: 0.0000e+00 - val_auc: 0.7104 - val_prc: 0.0513 - val_top3_acc: 0.1687 - val_accuracy: 0.0547\n",
            "Epoch 38/50\n",
            "123/123 [==============================] - 24s 197ms/step - loss: 0.1105 - cat_acc: 0.0691 - precision: 0.0000e+00 - recall: 0.0000e+00 - auc: 0.7113 - prc: 0.0517 - top3_acc: 0.1859 - accuracy: 0.0691 - val_loss: 3.6137 - val_cat_acc: 0.0567 - val_precision: 0.0000e+00 - val_recall: 0.0000e+00 - val_auc: 0.7118 - val_prc: 0.0519 - val_top3_acc: 0.1682 - val_accuracy: 0.0567\n",
            "Epoch 39/50\n",
            "123/123 [==============================] - 26s 208ms/step - loss: 0.1104 - cat_acc: 0.0681 - precision: 0.0000e+00 - recall: 0.0000e+00 - auc: 0.7125 - prc: 0.0524 - top3_acc: 0.1908 - accuracy: 0.0681 - val_loss: 3.6284 - val_cat_acc: 0.0549 - val_precision: 0.0000e+00 - val_recall: 0.0000e+00 - val_auc: 0.7129 - val_prc: 0.0519 - val_top3_acc: 0.1664 - val_accuracy: 0.0549\n",
            "Epoch 40/50\n",
            "123/123 [==============================] - 25s 205ms/step - loss: 0.1103 - cat_acc: 0.0694 - precision: 0.0000e+00 - recall: 0.0000e+00 - auc: 0.7124 - prc: 0.0525 - top3_acc: 0.1857 - accuracy: 0.0694 - val_loss: 3.6283 - val_cat_acc: 0.0885 - val_precision: 0.0000e+00 - val_recall: 0.0000e+00 - val_auc: 0.7154 - val_prc: 0.0551 - val_top3_acc: 0.2016 - val_accuracy: 0.0885\n",
            "Epoch 41/50\n",
            "123/123 [==============================] - 25s 202ms/step - loss: 0.1101 - cat_acc: 0.0725 - precision: 0.0000e+00 - recall: 0.0000e+00 - auc: 0.7140 - prc: 0.0532 - top3_acc: 0.1939 - accuracy: 0.0725 - val_loss: 3.6470 - val_cat_acc: 0.0804 - val_precision: 0.0000e+00 - val_recall: 0.0000e+00 - val_auc: 0.7151 - val_prc: 0.0552 - val_top3_acc: 0.2077 - val_accuracy: 0.0804\n",
            "Epoch 42/50\n",
            "123/123 [==============================] - 24s 195ms/step - loss: 0.1101 - cat_acc: 0.0718 - precision: 0.0000e+00 - recall: 0.0000e+00 - auc: 0.7138 - prc: 0.0529 - top3_acc: 0.1893 - accuracy: 0.0718 - val_loss: 3.6166 - val_cat_acc: 0.0764 - val_precision: 0.0000e+00 - val_recall: 0.0000e+00 - val_auc: 0.7166 - val_prc: 0.0554 - val_top3_acc: 0.2077 - val_accuracy: 0.0764\n",
            "Epoch 43/50\n",
            "123/123 [==============================] - 25s 204ms/step - loss: 0.1100 - cat_acc: 0.0733 - precision: 0.0000e+00 - recall: 0.0000e+00 - auc: 0.7145 - prc: 0.0537 - top3_acc: 0.1942 - accuracy: 0.0733 - val_loss: 3.5866 - val_cat_acc: 0.0608 - val_precision: 0.0000e+00 - val_recall: 0.0000e+00 - val_auc: 0.7159 - val_prc: 0.0531 - val_top3_acc: 0.1741 - val_accuracy: 0.0608\n",
            "Epoch 44/50\n",
            "123/123 [==============================] - 25s 205ms/step - loss: 0.1098 - cat_acc: 0.0727 - precision: 0.0000e+00 - recall: 0.0000e+00 - auc: 0.7154 - prc: 0.0539 - top3_acc: 0.1937 - accuracy: 0.0727 - val_loss: 3.5692 - val_cat_acc: 0.0888 - val_precision: 0.0000e+00 - val_recall: 0.0000e+00 - val_auc: 0.7181 - val_prc: 0.0558 - val_top3_acc: 0.2057 - val_accuracy: 0.0888\n",
            "Epoch 45/50\n",
            "123/123 [==============================] - 25s 202ms/step - loss: 0.1097 - cat_acc: 0.0760 - precision: 0.0000e+00 - recall: 0.0000e+00 - auc: 0.7164 - prc: 0.0548 - top3_acc: 0.1998 - accuracy: 0.0760 - val_loss: 3.6033 - val_cat_acc: 0.0842 - val_precision: 0.0000e+00 - val_recall: 0.0000e+00 - val_auc: 0.7193 - val_prc: 0.0582 - val_top3_acc: 0.2034 - val_accuracy: 0.0842\n",
            "Epoch 46/50\n",
            "123/123 [==============================] - 24s 199ms/step - loss: 0.1096 - cat_acc: 0.0752 - precision: 0.0000e+00 - recall: 0.0000e+00 - auc: 0.7170 - prc: 0.0548 - top3_acc: 0.1971 - accuracy: 0.0752 - val_loss: 3.5936 - val_cat_acc: 0.0801 - val_precision: 0.0000e+00 - val_recall: 0.0000e+00 - val_auc: 0.7197 - val_prc: 0.0569 - val_top3_acc: 0.2045 - val_accuracy: 0.0801\n",
            "Epoch 47/50\n",
            "123/123 [==============================] - 25s 202ms/step - loss: 0.1094 - cat_acc: 0.0780 - precision: 0.0000e+00 - recall: 0.0000e+00 - auc: 0.7184 - prc: 0.0555 - top3_acc: 0.2056 - accuracy: 0.0780 - val_loss: 3.6016 - val_cat_acc: 0.0798 - val_precision: 0.0000e+00 - val_recall: 0.0000e+00 - val_auc: 0.7194 - val_prc: 0.0581 - val_top3_acc: 0.1992 - val_accuracy: 0.0798\n",
            "Epoch 48/50\n",
            "123/123 [==============================] - 25s 200ms/step - loss: 0.1093 - cat_acc: 0.0797 - precision: 0.0000e+00 - recall: 0.0000e+00 - auc: 0.7190 - prc: 0.0559 - top3_acc: 0.2045 - accuracy: 0.0797 - val_loss: 3.6095 - val_cat_acc: 0.0620 - val_precision: 0.0000e+00 - val_recall: 0.0000e+00 - val_auc: 0.7188 - val_prc: 0.0539 - val_top3_acc: 0.1859 - val_accuracy: 0.0620\n",
            "Epoch 49/50\n",
            "123/123 [==============================] - 24s 198ms/step - loss: 0.1092 - cat_acc: 0.0801 - precision: 0.0000e+00 - recall: 0.0000e+00 - auc: 0.7191 - prc: 0.0560 - top3_acc: 0.2044 - accuracy: 0.0801 - val_loss: 3.5770 - val_cat_acc: 0.0819 - val_precision: 0.0000e+00 - val_recall: 0.0000e+00 - val_auc: 0.7221 - val_prc: 0.0558 - val_top3_acc: 0.2001 - val_accuracy: 0.0819\n",
            "Epoch 50/50\n",
            "123/123 [==============================] - 25s 202ms/step - loss: 0.1090 - cat_acc: 0.0805 - precision: 0.0000e+00 - recall: 0.0000e+00 - auc: 0.7202 - prc: 0.0568 - top3_acc: 0.2055 - accuracy: 0.0805 - val_loss: 3.5668 - val_cat_acc: 0.0800 - val_precision: 0.0000e+00 - val_recall: 0.0000e+00 - val_auc: 0.7231 - val_prc: 0.0575 - val_top3_acc: 0.2094 - val_accuracy: 0.0800\n"
          ]
        }
      ]
    },
    {
      "cell_type": "code",
      "source": [
        "baseline_results4 = model4.evaluate(test_generator, batch_size=batch_size, verbose=1)\n",
        "for name, value in zip(model4.metrics_names, baseline_results4):\n",
        "  print(name, ': ', value)"
      ],
      "metadata": {
        "colab": {
          "base_uri": "https://localhost:8080/"
        },
        "id": "zpaoIQPnuaGP",
        "outputId": "4df55ebe-53a8-4a4e-d320-424a355f683a"
      },
      "execution_count": null,
      "outputs": [
        {
          "output_type": "stream",
          "name": "stdout",
          "text": [
            "31/31 [==============================] - 2s 72ms/step - loss: 3.5668 - cat_acc: 0.0800 - precision: 0.0000e+00 - recall: 0.0000e+00 - auc: 0.7231 - prc: 0.0575 - top3_acc: 0.2094 - accuracy: 0.0800\n",
            "loss :  3.5668463706970215\n",
            "cat_acc :  0.08001536130905151\n",
            "precision :  0.0\n",
            "recall :  0.0\n",
            "auc :  0.7230502367019653\n",
            "prc :  0.05747314542531967\n",
            "top3_acc :  0.2094482183456421\n",
            "accuracy :  0.08001536130905151\n"
          ]
        }
      ]
    },
    {
      "cell_type": "code",
      "source": [
        "print(\"Best validation accuracy: {:0.3f}\".format(np.max(history4.history['val_accuracy'])))\n",
        "\n",
        "plt.plot(history4.history['accuracy'])\n",
        "plt.plot(history4.history['val_accuracy'])\n",
        "plt.ylabel('accuracy')\n",
        "plt.xlabel('epochs')\n",
        "plt.legend(['train', 'test'], loc='lower right')\n",
        "plt.show()"
      ],
      "metadata": {
        "colab": {
          "base_uri": "https://localhost:8080/",
          "height": 296
        },
        "id": "Wij4PvaruaND",
        "outputId": "e150c0a0-6844-41f3-dac2-04b26b4e7133"
      },
      "execution_count": null,
      "outputs": [
        {
          "output_type": "stream",
          "name": "stdout",
          "text": [
            "Best validation accuracy: 0.089\n"
          ]
        },
        {
          "output_type": "display_data",
          "data": {
            "image/png": "[encoded data removed]",
            "text/plain": [
              "<Figure size 432x288 with 1 Axes>"
            ]
          },
          "metadata": {
            "needs_background": "light"
          }
        }
      ]
    },
    {
      "cell_type": "markdown",
      "source": [
        "### Final Model, Goal of >=98% Accuracy\n",
        "\n",
        "Using data augmentation requires more than 50 epochs to achieve higher accuracy. In this case the accuracy was much lower than the baseline models after 50 epochs, so I commented out the data augmentation. This model has an extra Dense layer with 512 neurons in between the Flatten and Dropout layers.\n",
        "\n",
        "I tried a larger batch size of 256, 128, and 64. 256 led to worse results across the board and 128 was a minor improvement upon the 3rd baseline model. Using a batch size of 64 was a minor improvement over the 128 batch size."
      ],
      "metadata": {
        "id": "SCwJFglkGygX"
      }
    },
    {
      "cell_type": "code",
      "source": [
        "# reset class weight\n",
        "# Calculate the class weight by dividing each class count by the sum of all class counts\n",
        "class_weight = {c:dist[c]/np.sum(dist) for c in classes}\n",
        "\n",
        "# Add data augmentation\n",
        "batch_size = 64\n",
        "train_datagen = ImageDataGenerator(\n",
        "    rescale = 1./255,\n",
        "    # rotation_range = 5,\n",
        "    # width_shift_range = 0.1,\n",
        "    # height_shift_range = 0.1,\n",
        ") \n",
        "\n",
        "test_datagen = ImageDataGenerator(rescale = 1./255.)\n",
        "\n",
        "train_generator = train_datagen.flow(\n",
        "    np.array(x_train),\n",
        "    to_categorical(y_train),\n",
        "    batch_size = batch_size\n",
        ")\n",
        "test_generator = test_datagen.flow(\n",
        "    np.array(x_test),\n",
        "    to_categorical(y_test),\n",
        "    batch_size = batch_size\n",
        ")\n",
        "\n",
        "def final_model():\n",
        "  model = Sequential()\n",
        "  model.add(Conv2D(32, (3, 3), padding='same', activation='relu', input_shape=(img_size, img_size, 3)))\n",
        "  model.add(Conv2D(64, (3, 3), activation='relu'))\n",
        "  model.add(MaxPooling2D(pool_size=(2,2)))\n",
        "  model.add(Flatten())\n",
        "  model.add(Dense(512, activation='relu'))\n",
        "  model.add(Dropout(0.4))\n",
        "  model.add(Dense(num_classes, activation='softmax'))\n",
        "  return model\n",
        "\n",
        "final_model = final_model()\n",
        "final_model.summary()"
      ],
      "metadata": {
        "id": "UWysy689HEih",
        "colab": {
          "base_uri": "https://localhost:8080/"
        },
        "outputId": "9bfcd3df-05df-4710-a42e-65203874a101"
      },
      "execution_count": null,
      "outputs": [
        {
          "output_type": "stream",
          "name": "stdout",
          "text": [
            "Model: \"sequential_7\"\n",
            "_________________________________________________________________\n",
            " Layer (type)                Output Shape              Param #   \n",
            "=================================================================\n",
            " conv2d_13 (Conv2D)          (None, 32, 32, 32)        896       \n",
            "                                                                 \n",
            " conv2d_14 (Conv2D)          (None, 30, 30, 64)        18496     \n",
            "                                                                 \n",
            " max_pooling2d_5 (MaxPooling  (None, 15, 15, 64)       0         \n",
            " 2D)                                                             \n",
            "                                                                 \n",
            " flatten_7 (Flatten)         (None, 14400)             0         \n",
            "                                                                 \n",
            " dense_11 (Dense)            (None, 512)               7373312   \n",
            "                                                                 \n",
            " dropout_5 (Dropout)         (None, 512)               0         \n",
            "                                                                 \n",
            " dense_12 (Dense)            (None, 43)                22059     \n",
            "                                                                 \n",
            "=================================================================\n",
            "Total params: 7,414,763\n",
            "Trainable params: 7,414,763\n",
            "Non-trainable params: 0\n",
            "_________________________________________________________________\n"
          ]
        }
      ]
    },
    {
      "cell_type": "code",
      "source": [
        "final_model.compile(\n",
        "    loss='categorical_crossentropy',\n",
        "    optimizer=Adam(learning_rate=0.001),\n",
        "    metrics=METRICS)"
      ],
      "metadata": {
        "id": "QJ0wR4WxINh1"
      },
      "execution_count": null,
      "outputs": []
    },
    {
      "cell_type": "code",
      "source": [
        "history_final = final_model.fit(\n",
        "    train_generator,\n",
        "    validation_data = test_generator,\n",
        "    class_weight = class_weight,\n",
        "    epochs = 50,\n",
        "    verbose = 0)"
      ],
      "metadata": {
        "id": "x9lE-eZkIuRY"
      },
      "execution_count": null,
      "outputs": []
    },
    {
      "cell_type": "code",
      "source": [
        "final_results = final_model.evaluate(test_generator, batch_size=batch_size, verbose=1)\n",
        "for name, value in zip(final_model.metrics_names, final_results):\n",
        "  print(name, ': ', value)"
      ],
      "metadata": {
        "colab": {
          "base_uri": "https://localhost:8080/"
        },
        "id": "NYa-U4OHKzxw",
        "outputId": "1a82d7e7-03f7-4882-ff3a-bd82f3c9e899"
      },
      "execution_count": null,
      "outputs": [
        {
          "output_type": "stream",
          "name": "stdout",
          "text": [
            "122/122 [==============================] - 2s 13ms/step - loss: 0.0848 - cat_acc: 0.9836 - precision: 0.9853 - recall: 0.9829 - auc: 0.9977 - top3_acc: 0.9951 - accuracy: 0.9836\n",
            "loss :  0.08476873487234116\n",
            "cat_acc :  0.983589768409729\n",
            "precision :  0.9853489398956299\n",
            "recall :  0.9829487204551697\n",
            "auc :  0.9977131485939026\n",
            "top3_acc :  0.9951282143592834\n",
            "accuracy :  0.983589768409729\n"
          ]
        }
      ]
    },
    {
      "cell_type": "code",
      "source": [
        "print(\"Best validation accuracy: {:0.3f}\".format(np.max(history_final.history['val_accuracy'])))\n",
        "\n",
        "plt.plot(history_final.history['accuracy'])\n",
        "plt.plot(history_final.history['val_accuracy'])\n",
        "plt.ylabel('accuracy')\n",
        "plt.xlabel('epochs')\n",
        "plt.legend(['train', 'test'], loc='lower right')\n",
        "plt.show()"
      ],
      "metadata": {
        "colab": {
          "base_uri": "https://localhost:8080/",
          "height": 296
        },
        "id": "EoVMVkYWK0WL",
        "outputId": "174d23fe-4ad7-4f73-f81a-53e9210591cd"
      },
      "execution_count": null,
      "outputs": [
        {
          "output_type": "stream",
          "name": "stdout",
          "text": [
            "Best validation accuracy: 0.986\n"
          ]
        },
        {
          "output_type": "display_data",
          "data": {
            "image/png": "[encoded data removed]",
            "text/plain": [
              "<Figure size 432x288 with 1 Axes>"
            ]
          },
          "metadata": {
            "needs_background": "light"
          }
        }
      ]
    },
    {
      "cell_type": "code",
      "source": [
        "plt.plot(history_final.history['loss'])\n",
        "plt.plot(history_final.history['val_loss'])\n",
        "plt.title('Model loss')\n",
        "plt.ylabel('Loss')\n",
        "plt.xlabel('Epoch')\n",
        "plt.legend(['Train', 'Val'], loc='upper right')\n",
        "plt.ylim(top=1.2, bottom=0)\n",
        "plt.show()"
      ],
      "metadata": {
        "colab": {
          "base_uri": "https://localhost:8080/",
          "height": 295
        },
        "id": "6TQOfZZXCiy8",
        "outputId": "8044af00-3ef1-4ab2-e90e-7b4e96a3b429"
      },
      "execution_count": null,
      "outputs": [
        {
          "output_type": "display_data",
          "data": {
            "image/png": "[encoded data removed]",
            "text/plain": [
              "<Figure size 432x288 with 1 Axes>"
            ]
          },
          "metadata": {
            "needs_background": "light"
          }
        }
      ]
    },
    {
      "cell_type": "markdown",
      "source": [
        "### Model that the book uses for 99% Accuracy\n",
        "\n",
        "I included the model that the book uses to show how they achieved 99% accuracy. I did train over 100 epochs, which took a long time! I also wanted to show that I didn't just copy their model to do my final project :-)."
      ],
      "metadata": {
        "id": "Uy9e6v91ElDT"
      }
    },
    {
      "cell_type": "code",
      "source": [
        "batch_size = 256\n",
        "train_datagen = ImageDataGenerator(\n",
        "    rescale = 1./255.,\n",
        "    rotation_range = 5,\n",
        "    width_shift_range = 0.1,\n",
        "    height_shift_range = 0.1,\n",
        ") \n",
        "\n",
        "test_datagen = ImageDataGenerator(rescale = 1./255.)\n",
        "\n",
        "train_generator = train_datagen.flow(\n",
        "    np.array(x_train),\n",
        "    to_categorical(y_train),\n",
        "    batch_size = batch_size\n",
        ")\n",
        "test_generator = test_datagen.flow(\n",
        "    np.array(x_test),\n",
        "    to_categorical(y_test),\n",
        "    batch_size = batch_size\n",
        ")"
      ],
      "metadata": {
        "id": "4JZ0epbOVLZi"
      },
      "execution_count": null,
      "outputs": []
    },
    {
      "cell_type": "code",
      "source": [
        "def model5():\n",
        "    model = Sequential()\n",
        "    model.add(Conv2D(32, (5, 5), padding='same', activation='relu', input_shape=(img_size, img_size, 3)))\n",
        "    model.add(Conv2D(64, (5, 5), activation='relu'))\n",
        "    # model.add(MaxPooling2D(pool_size=(2,2)))\n",
        "    model.add(Flatten())\n",
        "    model.add(Dense(768, activation='relu'))\n",
        "    model.add(Dropout(0.4))\n",
        "    model.add(Dense(num_classes, activation='softmax'))\n",
        "    return model"
      ],
      "metadata": {
        "id": "imk01PWGE0Vf"
      },
      "execution_count": null,
      "outputs": []
    },
    {
      "cell_type": "code",
      "source": [
        "model5 = model5()\n",
        "model5.summary()"
      ],
      "metadata": {
        "colab": {
          "base_uri": "https://localhost:8080/"
        },
        "id": "0vQYrozxXzq9",
        "outputId": "9815c8e0-1773-4935-f4f5-9bb4ff8ac4dd"
      },
      "execution_count": null,
      "outputs": [
        {
          "output_type": "stream",
          "name": "stdout",
          "text": [
            "Model: \"sequential\"\n",
            "_________________________________________________________________\n",
            " Layer (type)                Output Shape              Param #   \n",
            "=================================================================\n",
            " conv2d (Conv2D)             (None, 32, 32, 32)        2432      \n",
            "                                                                 \n",
            " conv2d_1 (Conv2D)           (None, 28, 28, 64)        51264     \n",
            "                                                                 \n",
            " flatten (Flatten)           (None, 50176)             0         \n",
            "                                                                 \n",
            " dense (Dense)               (None, 768)               38535936  \n",
            "                                                                 \n",
            " dropout (Dropout)           (None, 768)               0         \n",
            "                                                                 \n",
            " dense_1 (Dense)             (None, 43)                33067     \n",
            "                                                                 \n",
            "=================================================================\n",
            "Total params: 38,622,699\n",
            "Trainable params: 38,622,699\n",
            "Non-trainable params: 0\n",
            "_________________________________________________________________\n"
          ]
        }
      ]
    },
    {
      "cell_type": "code",
      "source": [
        "import functools\n",
        "top3_acc = functools.partial(keras.metrics.top_k_categorical_accuracy, k=3)\n",
        "top3_acc.__name__ = 'top3_acc'\n",
        "METRICS = [\n",
        "      keras.metrics.CategoricalAccuracy(name='cat_acc'),\n",
        "      keras.metrics.Precision(name='precision'),\n",
        "      keras.metrics.Recall(name='recall'),\n",
        "      keras.metrics.AUC(name='auc'),\n",
        "      keras.metrics.AUC(name='prc', curve='PR'), # precision-recall curve\n",
        "      top3_acc,\n",
        "      'accuracy',\n",
        "]\n",
        "\n",
        "model5.compile(optimizer=Adam(),\n",
        "               loss='categorical_crossentropy',\n",
        "               metrics=METRICS)"
      ],
      "metadata": {
        "id": "GosPyDUOYB9o"
      },
      "execution_count": null,
      "outputs": []
    },
    {
      "cell_type": "code",
      "source": [
        "history5 = model5.fit_generator(\n",
        "    train_generator,\n",
        "    steps_per_epoch=len(x_train) // batch_size,\n",
        "    validation_data = test_generator,\n",
        "    validation_steps = len(x_test) // batch_size,\n",
        "    class_weight = class_weight,\n",
        "    epochs = 100,\n",
        "    verbose = 2)"
      ],
      "metadata": {
        "colab": {
          "base_uri": "https://localhost:8080/"
        },
        "id": "vipV2_PVFqhr",
        "outputId": "1b262291-fbc2-4c3c-8e1e-c853dcb5b694"
      },
      "execution_count": null,
      "outputs": [
        {
          "output_type": "stream",
          "name": "stdout",
          "text": [
            "Epoch 1/100\n",
            "122/122 - 36s - loss: 0.1119 - cat_acc: 0.0695 - precision: 0.0000e+00 - recall: 0.0000e+00 - auc: 0.7105 - prc: 0.0537 - top3_acc: 0.1940 - accuracy: 0.0695 - val_loss: 3.4524 - val_cat_acc: 0.1217 - val_precision: 0.0000e+00 - val_recall: 0.0000e+00 - val_auc: 0.7461 - val_prc: 0.0754 - val_top3_acc: 0.2578 - val_accuracy: 0.1217 - 36s/epoch - 299ms/step\n",
            "Epoch 2/100\n",
            "122/122 - 22s - loss: 0.1021 - cat_acc: 0.1290 - precision: 0.6196 - recall: 0.0055 - auc: 0.7592 - prc: 0.0942 - top3_acc: 0.2905 - accuracy: 0.1290 - val_loss: 3.0979 - val_cat_acc: 0.2045 - val_precision: 0.8083 - val_recall: 0.0367 - val_auc: 0.8061 - val_prc: 0.1831 - val_top3_acc: 0.4224 - val_accuracy: 0.2045 - 22s/epoch - 180ms/step\n",
            "Epoch 3/100\n",
            "122/122 - 22s - loss: 0.0803 - cat_acc: 0.2683 - precision: 0.6217 - recall: 0.0871 - auc: 0.8461 - prc: 0.2404 - top3_acc: 0.4740 - accuracy: 0.2683 - val_loss: 2.0356 - val_cat_acc: 0.4332 - val_precision: 0.7883 - val_recall: 0.2351 - val_auc: 0.9224 - val_prc: 0.4648 - val_top3_acc: 0.6242 - val_accuracy: 0.4332 - 22s/epoch - 179ms/step\n",
            "Epoch 4/100\n",
            "122/122 - 23s - loss: 0.0624 - cat_acc: 0.3749 - precision: 0.6567 - recall: 0.1948 - auc: 0.9113 - prc: 0.3823 - top3_acc: 0.6056 - accuracy: 0.3749 - val_loss: 1.6474 - val_cat_acc: 0.5228 - val_precision: 0.8291 - val_recall: 0.3160 - val_auc: 0.9516 - val_prc: 0.5748 - val_top3_acc: 0.7211 - val_accuracy: 0.5228 - 23s/epoch - 188ms/step\n",
            "Epoch 5/100\n",
            "122/122 - 22s - loss: 0.0542 - cat_acc: 0.4349 - precision: 0.7027 - recall: 0.2649 - auc: 0.9341 - prc: 0.4643 - top3_acc: 0.6703 - accuracy: 0.4349 - val_loss: 1.3301 - val_cat_acc: 0.5912 - val_precision: 0.8576 - val_recall: 0.4059 - val_auc: 0.9715 - val_prc: 0.6710 - val_top3_acc: 0.8004 - val_accuracy: 0.5912 - 22s/epoch - 182ms/step\n",
            "Epoch 6/100\n",
            "122/122 - 22s - loss: 0.0489 - cat_acc: 0.4804 - precision: 0.7304 - recall: 0.3147 - auc: 0.9473 - prc: 0.5263 - top3_acc: 0.7189 - accuracy: 0.4804 - val_loss: 1.1889 - val_cat_acc: 0.6172 - val_precision: 0.8326 - val_recall: 0.4651 - val_auc: 0.9768 - val_prc: 0.7092 - val_top3_acc: 0.8277 - val_accuracy: 0.6172 - 22s/epoch - 178ms/step\n",
            "Epoch 7/100\n",
            "122/122 - 22s - loss: 0.0442 - cat_acc: 0.5244 - precision: 0.7457 - recall: 0.3643 - auc: 0.9560 - prc: 0.5791 - top3_acc: 0.7610 - accuracy: 0.5244 - val_loss: 0.9910 - val_cat_acc: 0.6836 - val_precision: 0.8772 - val_recall: 0.5113 - val_auc: 0.9845 - val_prc: 0.7812 - val_top3_acc: 0.8798 - val_accuracy: 0.6836 - 22s/epoch - 180ms/step\n",
            "Epoch 8/100\n",
            "122/122 - 22s - loss: 0.0403 - cat_acc: 0.5651 - precision: 0.7711 - recall: 0.4058 - auc: 0.9629 - prc: 0.6288 - top3_acc: 0.7923 - accuracy: 0.5651 - val_loss: 0.8284 - val_cat_acc: 0.7447 - val_precision: 0.8941 - val_recall: 0.6077 - val_auc: 0.9888 - val_prc: 0.8378 - val_top3_acc: 0.9089 - val_accuracy: 0.7447 - 22s/epoch - 178ms/step\n",
            "Epoch 9/100\n",
            "122/122 - 23s - loss: 0.0365 - cat_acc: 0.5984 - precision: 0.7835 - recall: 0.4568 - auc: 0.9681 - prc: 0.6709 - top3_acc: 0.8187 - accuracy: 0.5984 - val_loss: 0.7638 - val_cat_acc: 0.7613 - val_precision: 0.8996 - val_recall: 0.6424 - val_auc: 0.9903 - val_prc: 0.8557 - val_top3_acc: 0.9149 - val_accuracy: 0.7613 - 23s/epoch - 187ms/step\n",
            "Epoch 10/100\n",
            "122/122 - 23s - loss: 0.0336 - cat_acc: 0.6309 - precision: 0.7977 - recall: 0.4948 - auc: 0.9730 - prc: 0.7072 - top3_acc: 0.8448 - accuracy: 0.6309 - val_loss: 0.6716 - val_cat_acc: 0.8007 - val_precision: 0.9168 - val_recall: 0.6735 - val_auc: 0.9925 - val_prc: 0.8871 - val_top3_acc: 0.9390 - val_accuracy: 0.8007 - 23s/epoch - 189ms/step\n",
            "Epoch 11/100\n",
            "122/122 - 23s - loss: 0.0305 - cat_acc: 0.6623 - precision: 0.8132 - recall: 0.5363 - auc: 0.9763 - prc: 0.7436 - top3_acc: 0.8643 - accuracy: 0.6623 - val_loss: 0.6081 - val_cat_acc: 0.8062 - val_precision: 0.9044 - val_recall: 0.7116 - val_auc: 0.9929 - val_prc: 0.8967 - val_top3_acc: 0.9466 - val_accuracy: 0.8062 - 23s/epoch - 189ms/step\n",
            "Epoch 12/100\n",
            "122/122 - 23s - loss: 0.0279 - cat_acc: 0.6851 - precision: 0.8202 - recall: 0.5737 - auc: 0.9795 - prc: 0.7704 - top3_acc: 0.8810 - accuracy: 0.6851 - val_loss: 0.5205 - val_cat_acc: 0.8432 - val_precision: 0.9232 - val_recall: 0.7645 - val_auc: 0.9950 - val_prc: 0.9228 - val_top3_acc: 0.9593 - val_accuracy: 0.8432 - 23s/epoch - 190ms/step\n",
            "Epoch 13/100\n",
            "122/122 - 23s - loss: 0.0260 - cat_acc: 0.7070 - precision: 0.8315 - recall: 0.6016 - auc: 0.9811 - prc: 0.7926 - top3_acc: 0.8932 - accuracy: 0.7070 - val_loss: 0.4785 - val_cat_acc: 0.8540 - val_precision: 0.9276 - val_recall: 0.7780 - val_auc: 0.9954 - val_prc: 0.9322 - val_top3_acc: 0.9623 - val_accuracy: 0.8540 - 23s/epoch - 185ms/step\n",
            "Epoch 14/100\n",
            "122/122 - 23s - loss: 0.0240 - cat_acc: 0.7284 - precision: 0.8393 - recall: 0.6321 - auc: 0.9832 - prc: 0.8132 - top3_acc: 0.9041 - accuracy: 0.7284 - val_loss: 0.4168 - val_cat_acc: 0.8773 - val_precision: 0.9349 - val_recall: 0.8160 - val_auc: 0.9964 - val_prc: 0.9462 - val_top3_acc: 0.9703 - val_accuracy: 0.8773 - 23s/epoch - 186ms/step\n",
            "Epoch 15/100\n",
            "122/122 - 23s - loss: 0.0225 - cat_acc: 0.7426 - precision: 0.8465 - recall: 0.6559 - auc: 0.9845 - prc: 0.8283 - top3_acc: 0.9111 - accuracy: 0.7426 - val_loss: 0.3860 - val_cat_acc: 0.8865 - val_precision: 0.9421 - val_recall: 0.8340 - val_auc: 0.9966 - val_prc: 0.9529 - val_top3_acc: 0.9735 - val_accuracy: 0.8865 - 23s/epoch - 184ms/step\n",
            "Epoch 16/100\n",
            "122/122 - 22s - loss: 0.0210 - cat_acc: 0.7587 - precision: 0.8505 - recall: 0.6760 - auc: 0.9866 - prc: 0.8443 - top3_acc: 0.9222 - accuracy: 0.7587 - val_loss: 0.3788 - val_cat_acc: 0.8810 - val_precision: 0.9341 - val_recall: 0.8363 - val_auc: 0.9968 - val_prc: 0.9533 - val_top3_acc: 0.9728 - val_accuracy: 0.8810 - 22s/epoch - 180ms/step\n",
            "Epoch 17/100\n",
            "122/122 - 23s - loss: 0.0201 - cat_acc: 0.7696 - precision: 0.8573 - recall: 0.6935 - auc: 0.9867 - prc: 0.8538 - top3_acc: 0.9266 - accuracy: 0.7696 - val_loss: 0.3191 - val_cat_acc: 0.9165 - val_precision: 0.9615 - val_recall: 0.8679 - val_auc: 0.9975 - val_prc: 0.9680 - val_top3_acc: 0.9781 - val_accuracy: 0.9165 - 23s/epoch - 187ms/step\n",
            "Epoch 18/100\n",
            "122/122 - 22s - loss: 0.0189 - cat_acc: 0.7781 - precision: 0.8619 - recall: 0.7099 - auc: 0.9880 - prc: 0.8657 - top3_acc: 0.9323 - accuracy: 0.7781 - val_loss: 0.3015 - val_cat_acc: 0.9097 - val_precision: 0.9474 - val_recall: 0.8721 - val_auc: 0.9977 - val_prc: 0.9691 - val_top3_acc: 0.9824 - val_accuracy: 0.9097 - 22s/epoch - 179ms/step\n",
            "Epoch 19/100\n",
            "122/122 - 23s - loss: 0.0180 - cat_acc: 0.7911 - precision: 0.8685 - recall: 0.7246 - auc: 0.9888 - prc: 0.8753 - top3_acc: 0.9376 - accuracy: 0.7911 - val_loss: 0.2718 - val_cat_acc: 0.9199 - val_precision: 0.9520 - val_recall: 0.8891 - val_auc: 0.9975 - val_prc: 0.9729 - val_top3_acc: 0.9821 - val_accuracy: 0.9199 - 23s/epoch - 190ms/step\n",
            "Epoch 20/100\n",
            "122/122 - 23s - loss: 0.0171 - cat_acc: 0.8001 - precision: 0.8717 - recall: 0.7387 - auc: 0.9893 - prc: 0.8839 - top3_acc: 0.9415 - accuracy: 0.8001 - val_loss: 0.2432 - val_cat_acc: 0.9332 - val_precision: 0.9630 - val_recall: 0.9025 - val_auc: 0.9985 - val_prc: 0.9793 - val_top3_acc: 0.9853 - val_accuracy: 0.9332 - 23s/epoch - 187ms/step\n",
            "Epoch 21/100\n",
            "122/122 - 23s - loss: 0.0160 - cat_acc: 0.8083 - precision: 0.8766 - recall: 0.7515 - auc: 0.9903 - prc: 0.8917 - top3_acc: 0.9477 - accuracy: 0.8083 - val_loss: 0.2390 - val_cat_acc: 0.9293 - val_precision: 0.9558 - val_recall: 0.9044 - val_auc: 0.9984 - val_prc: 0.9785 - val_top3_acc: 0.9869 - val_accuracy: 0.9293 - 23s/epoch - 191ms/step\n",
            "Epoch 22/100\n",
            "122/122 - 23s - loss: 0.0152 - cat_acc: 0.8182 - precision: 0.8826 - recall: 0.7651 - auc: 0.9912 - prc: 0.9019 - top3_acc: 0.9503 - accuracy: 0.8182 - val_loss: 0.2200 - val_cat_acc: 0.9367 - val_precision: 0.9603 - val_recall: 0.9181 - val_auc: 0.9984 - val_prc: 0.9808 - val_top3_acc: 0.9865 - val_accuracy: 0.9367 - 23s/epoch - 189ms/step\n",
            "Epoch 23/100\n",
            "122/122 - 23s - loss: 0.0149 - cat_acc: 0.8234 - precision: 0.8852 - recall: 0.7749 - auc: 0.9912 - prc: 0.9055 - top3_acc: 0.9527 - accuracy: 0.8234 - val_loss: 0.2148 - val_cat_acc: 0.9396 - val_precision: 0.9609 - val_recall: 0.9165 - val_auc: 0.9989 - val_prc: 0.9829 - val_top3_acc: 0.9883 - val_accuracy: 0.9396 - 23s/epoch - 185ms/step\n",
            "Epoch 24/100\n",
            "122/122 - 22s - loss: 0.0142 - cat_acc: 0.8290 - precision: 0.8858 - recall: 0.7817 - auc: 0.9918 - prc: 0.9095 - top3_acc: 0.9560 - accuracy: 0.8290 - val_loss: 0.2026 - val_cat_acc: 0.9408 - val_precision: 0.9643 - val_recall: 0.9180 - val_auc: 0.9987 - val_prc: 0.9840 - val_top3_acc: 0.9894 - val_accuracy: 0.9408 - 22s/epoch - 180ms/step\n",
            "Epoch 25/100\n",
            "122/122 - 23s - loss: 0.0136 - cat_acc: 0.8343 - precision: 0.8872 - recall: 0.7911 - auc: 0.9923 - prc: 0.9147 - top3_acc: 0.9582 - accuracy: 0.8343 - val_loss: 0.1845 - val_cat_acc: 0.9451 - val_precision: 0.9649 - val_recall: 0.9288 - val_auc: 0.9982 - val_prc: 0.9848 - val_top3_acc: 0.9902 - val_accuracy: 0.9451 - 23s/epoch - 189ms/step\n",
            "Epoch 26/100\n",
            "122/122 - 22s - loss: 0.0129 - cat_acc: 0.8445 - precision: 0.8952 - recall: 0.8040 - auc: 0.9922 - prc: 0.9213 - top3_acc: 0.9595 - accuracy: 0.8445 - val_loss: 0.1821 - val_cat_acc: 0.9453 - val_precision: 0.9653 - val_recall: 0.9288 - val_auc: 0.9989 - val_prc: 0.9871 - val_top3_acc: 0.9921 - val_accuracy: 0.9453 - 22s/epoch - 180ms/step\n",
            "Epoch 27/100\n",
            "122/122 - 23s - loss: 0.0128 - cat_acc: 0.8453 - precision: 0.8939 - recall: 0.8038 - auc: 0.9929 - prc: 0.9232 - top3_acc: 0.9618 - accuracy: 0.8453 - val_loss: 0.1559 - val_cat_acc: 0.9573 - val_precision: 0.9737 - val_recall: 0.9408 - val_auc: 0.9992 - val_prc: 0.9909 - val_top3_acc: 0.9922 - val_accuracy: 0.9573 - 23s/epoch - 188ms/step\n",
            "Epoch 28/100\n",
            "122/122 - 23s - loss: 0.0121 - cat_acc: 0.8486 - precision: 0.8962 - recall: 0.8112 - auc: 0.9935 - prc: 0.9277 - top3_acc: 0.9643 - accuracy: 0.8486 - val_loss: 0.1494 - val_cat_acc: 0.9584 - val_precision: 0.9747 - val_recall: 0.9432 - val_auc: 0.9994 - val_prc: 0.9913 - val_top3_acc: 0.9921 - val_accuracy: 0.9584 - 23s/epoch - 185ms/step\n",
            "Epoch 29/100\n",
            "122/122 - 22s - loss: 0.0123 - cat_acc: 0.8512 - precision: 0.8983 - recall: 0.8129 - auc: 0.9928 - prc: 0.9266 - top3_acc: 0.9634 - accuracy: 0.8512 - val_loss: 0.1592 - val_cat_acc: 0.9588 - val_precision: 0.9739 - val_recall: 0.9400 - val_auc: 0.9989 - val_prc: 0.9891 - val_top3_acc: 0.9934 - val_accuracy: 0.9588 - 22s/epoch - 182ms/step\n",
            "Epoch 30/100\n",
            "122/122 - 22s - loss: 0.0119 - cat_acc: 0.8539 - precision: 0.8991 - recall: 0.8173 - auc: 0.9934 - prc: 0.9300 - top3_acc: 0.9668 - accuracy: 0.8539 - val_loss: 0.1415 - val_cat_acc: 0.9597 - val_precision: 0.9719 - val_recall: 0.9463 - val_auc: 0.9993 - val_prc: 0.9915 - val_top3_acc: 0.9938 - val_accuracy: 0.9597 - 22s/epoch - 178ms/step\n",
            "Epoch 31/100\n",
            "122/122 - 23s - loss: 0.0114 - cat_acc: 0.8584 - precision: 0.9023 - recall: 0.8243 - auc: 0.9938 - prc: 0.9353 - top3_acc: 0.9672 - accuracy: 0.8584 - val_loss: 0.1375 - val_cat_acc: 0.9589 - val_precision: 0.9726 - val_recall: 0.9480 - val_auc: 0.9992 - val_prc: 0.9915 - val_top3_acc: 0.9938 - val_accuracy: 0.9589 - 23s/epoch - 187ms/step\n",
            "Epoch 32/100\n",
            "122/122 - 22s - loss: 0.0107 - cat_acc: 0.8689 - precision: 0.9079 - recall: 0.8371 - auc: 0.9944 - prc: 0.9409 - top3_acc: 0.9709 - accuracy: 0.8689 - val_loss: 0.1183 - val_cat_acc: 0.9666 - val_precision: 0.9766 - val_recall: 0.9559 - val_auc: 0.9992 - val_prc: 0.9934 - val_top3_acc: 0.9962 - val_accuracy: 0.9666 - 22s/epoch - 178ms/step\n",
            "Epoch 33/100\n",
            "122/122 - 23s - loss: 0.0104 - cat_acc: 0.8680 - precision: 0.9074 - recall: 0.8374 - auc: 0.9946 - prc: 0.9418 - top3_acc: 0.9722 - accuracy: 0.8680 - val_loss: 0.1217 - val_cat_acc: 0.9662 - val_precision: 0.9771 - val_recall: 0.9549 - val_auc: 0.9995 - val_prc: 0.9932 - val_top3_acc: 0.9960 - val_accuracy: 0.9662 - 23s/epoch - 191ms/step\n",
            "Epoch 34/100\n",
            "122/122 - 22s - loss: 0.0103 - cat_acc: 0.8725 - precision: 0.9106 - recall: 0.8432 - auc: 0.9945 - prc: 0.9436 - top3_acc: 0.9719 - accuracy: 0.8725 - val_loss: 0.1208 - val_cat_acc: 0.9660 - val_precision: 0.9774 - val_recall: 0.9551 - val_auc: 0.9993 - val_prc: 0.9932 - val_top3_acc: 0.9961 - val_accuracy: 0.9660 - 22s/epoch - 183ms/step\n",
            "Epoch 35/100\n",
            "122/122 - 22s - loss: 0.0102 - cat_acc: 0.8707 - precision: 0.9072 - recall: 0.8429 - auc: 0.9945 - prc: 0.9433 - top3_acc: 0.9731 - accuracy: 0.8707 - val_loss: 0.1285 - val_cat_acc: 0.9638 - val_precision: 0.9774 - val_recall: 0.9524 - val_auc: 0.9993 - val_prc: 0.9929 - val_top3_acc: 0.9941 - val_accuracy: 0.9638 - 22s/epoch - 181ms/step\n",
            "Epoch 36/100\n",
            "122/122 - 22s - loss: 0.0098 - cat_acc: 0.8786 - precision: 0.9129 - recall: 0.8519 - auc: 0.9945 - prc: 0.9474 - top3_acc: 0.9737 - accuracy: 0.8786 - val_loss: 0.1083 - val_cat_acc: 0.9714 - val_precision: 0.9822 - val_recall: 0.9608 - val_auc: 0.9993 - val_prc: 0.9949 - val_top3_acc: 0.9957 - val_accuracy: 0.9714 - 22s/epoch - 180ms/step\n",
            "Epoch 37/100\n",
            "122/122 - 22s - loss: 0.0093 - cat_acc: 0.8828 - precision: 0.9179 - recall: 0.8566 - auc: 0.9946 - prc: 0.9497 - top3_acc: 0.9751 - accuracy: 0.8828 - val_loss: 0.1154 - val_cat_acc: 0.9671 - val_precision: 0.9777 - val_recall: 0.9551 - val_auc: 0.9992 - val_prc: 0.9938 - val_top3_acc: 0.9962 - val_accuracy: 0.9671 - 22s/epoch - 180ms/step\n",
            "Epoch 38/100\n",
            "122/122 - 23s - loss: 0.0094 - cat_acc: 0.8814 - precision: 0.9157 - recall: 0.8540 - auc: 0.9951 - prc: 0.9506 - top3_acc: 0.9761 - accuracy: 0.8814 - val_loss: 0.0971 - val_cat_acc: 0.9739 - val_precision: 0.9822 - val_recall: 0.9646 - val_auc: 0.9996 - val_prc: 0.9961 - val_top3_acc: 0.9965 - val_accuracy: 0.9739 - 23s/epoch - 187ms/step\n",
            "Epoch 39/100\n",
            "122/122 - 22s - loss: 0.0091 - cat_acc: 0.8858 - precision: 0.9156 - recall: 0.8608 - auc: 0.9951 - prc: 0.9522 - top3_acc: 0.9762 - accuracy: 0.8858 - val_loss: 0.0950 - val_cat_acc: 0.9751 - val_precision: 0.9819 - val_recall: 0.9655 - val_auc: 0.9995 - val_prc: 0.9957 - val_top3_acc: 0.9971 - val_accuracy: 0.9751 - 22s/epoch - 183ms/step\n",
            "Epoch 40/100\n",
            "122/122 - 22s - loss: 0.0089 - cat_acc: 0.8870 - precision: 0.9183 - recall: 0.8622 - auc: 0.9952 - prc: 0.9526 - top3_acc: 0.9773 - accuracy: 0.8870 - val_loss: 0.0834 - val_cat_acc: 0.9783 - val_precision: 0.9834 - val_recall: 0.9715 - val_auc: 0.9995 - val_prc: 0.9965 - val_top3_acc: 0.9980 - val_accuracy: 0.9783 - 22s/epoch - 178ms/step\n",
            "Epoch 41/100\n",
            "122/122 - 23s - loss: 0.0087 - cat_acc: 0.8918 - precision: 0.9211 - recall: 0.8687 - auc: 0.9955 - prc: 0.9570 - top3_acc: 0.9789 - accuracy: 0.8918 - val_loss: 0.0909 - val_cat_acc: 0.9745 - val_precision: 0.9827 - val_recall: 0.9661 - val_auc: 0.9996 - val_prc: 0.9962 - val_top3_acc: 0.9971 - val_accuracy: 0.9745 - 23s/epoch - 188ms/step\n",
            "Epoch 42/100\n",
            "122/122 - 23s - loss: 0.0083 - cat_acc: 0.8953 - precision: 0.9225 - recall: 0.8734 - auc: 0.9956 - prc: 0.9579 - top3_acc: 0.9795 - accuracy: 0.8953 - val_loss: 0.0812 - val_cat_acc: 0.9782 - val_precision: 0.9842 - val_recall: 0.9720 - val_auc: 0.9995 - val_prc: 0.9966 - val_top3_acc: 0.9980 - val_accuracy: 0.9782 - 23s/epoch - 188ms/step\n",
            "Epoch 43/100\n",
            "122/122 - 22s - loss: 0.0085 - cat_acc: 0.8917 - precision: 0.9207 - recall: 0.8688 - auc: 0.9955 - prc: 0.9573 - top3_acc: 0.9780 - accuracy: 0.8917 - val_loss: 0.0865 - val_cat_acc: 0.9747 - val_precision: 0.9819 - val_recall: 0.9688 - val_auc: 0.9995 - val_prc: 0.9964 - val_top3_acc: 0.9974 - val_accuracy: 0.9747 - 22s/epoch - 182ms/step\n",
            "Epoch 44/100\n",
            "122/122 - 22s - loss: 0.0081 - cat_acc: 0.8968 - precision: 0.9253 - recall: 0.8766 - auc: 0.9960 - prc: 0.9604 - top3_acc: 0.9812 - accuracy: 0.8968 - val_loss: 0.0791 - val_cat_acc: 0.9785 - val_precision: 0.9858 - val_recall: 0.9724 - val_auc: 0.9996 - val_prc: 0.9971 - val_top3_acc: 0.9972 - val_accuracy: 0.9785 - 22s/epoch - 179ms/step\n",
            "Epoch 45/100\n",
            "122/122 - 23s - loss: 0.0078 - cat_acc: 0.9001 - precision: 0.9272 - recall: 0.8793 - auc: 0.9959 - prc: 0.9620 - top3_acc: 0.9819 - accuracy: 0.9001 - val_loss: 0.0894 - val_cat_acc: 0.9744 - val_precision: 0.9821 - val_recall: 0.9672 - val_auc: 0.9993 - val_prc: 0.9961 - val_top3_acc: 0.9967 - val_accuracy: 0.9744 - 23s/epoch - 189ms/step\n",
            "Epoch 46/100\n",
            "122/122 - 22s - loss: 0.0079 - cat_acc: 0.8995 - precision: 0.9256 - recall: 0.8786 - auc: 0.9962 - prc: 0.9618 - top3_acc: 0.9810 - accuracy: 0.8995 - val_loss: 0.0771 - val_cat_acc: 0.9806 - val_precision: 0.9865 - val_recall: 0.9753 - val_auc: 0.9994 - val_prc: 0.9966 - val_top3_acc: 0.9971 - val_accuracy: 0.9806 - 22s/epoch - 180ms/step\n",
            "Epoch 47/100\n",
            "122/122 - 23s - loss: 0.0076 - cat_acc: 0.9039 - precision: 0.9272 - recall: 0.8828 - auc: 0.9960 - prc: 0.9626 - top3_acc: 0.9811 - accuracy: 0.9039 - val_loss: 0.0734 - val_cat_acc: 0.9816 - val_precision: 0.9861 - val_recall: 0.9764 - val_auc: 0.9994 - val_prc: 0.9966 - val_top3_acc: 0.9981 - val_accuracy: 0.9816 - 23s/epoch - 189ms/step\n",
            "Epoch 48/100\n",
            "122/122 - 23s - loss: 0.0074 - cat_acc: 0.9053 - precision: 0.9284 - recall: 0.8870 - auc: 0.9958 - prc: 0.9643 - top3_acc: 0.9819 - accuracy: 0.9053 - val_loss: 0.0719 - val_cat_acc: 0.9805 - val_precision: 0.9846 - val_recall: 0.9754 - val_auc: 0.9996 - val_prc: 0.9971 - val_top3_acc: 0.9972 - val_accuracy: 0.9805 - 23s/epoch - 185ms/step\n",
            "Epoch 49/100\n",
            "122/122 - 22s - loss: 0.0075 - cat_acc: 0.9035 - precision: 0.9276 - recall: 0.8854 - auc: 0.9957 - prc: 0.9632 - top3_acc: 0.9823 - accuracy: 0.9035 - val_loss: 0.0678 - val_cat_acc: 0.9832 - val_precision: 0.9881 - val_recall: 0.9772 - val_auc: 0.9998 - val_prc: 0.9979 - val_top3_acc: 0.9986 - val_accuracy: 0.9832 - 22s/epoch - 182ms/step\n",
            "Epoch 50/100\n",
            "122/122 - 22s - loss: 0.0072 - cat_acc: 0.9056 - precision: 0.9307 - recall: 0.8857 - auc: 0.9965 - prc: 0.9663 - top3_acc: 0.9835 - accuracy: 0.9056 - val_loss: 0.0680 - val_cat_acc: 0.9811 - val_precision: 0.9865 - val_recall: 0.9759 - val_auc: 0.9996 - val_prc: 0.9975 - val_top3_acc: 0.9984 - val_accuracy: 0.9811 - 22s/epoch - 179ms/step\n",
            "Epoch 51/100\n",
            "122/122 - 23s - loss: 0.0074 - cat_acc: 0.9062 - precision: 0.9278 - recall: 0.8881 - auc: 0.9962 - prc: 0.9646 - top3_acc: 0.9830 - accuracy: 0.9062 - val_loss: 0.0715 - val_cat_acc: 0.9785 - val_precision: 0.9838 - val_recall: 0.9729 - val_auc: 0.9997 - val_prc: 0.9973 - val_top3_acc: 0.9980 - val_accuracy: 0.9785 - 23s/epoch - 188ms/step\n",
            "Epoch 52/100\n",
            "122/122 - 22s - loss: 0.0068 - cat_acc: 0.9111 - precision: 0.9323 - recall: 0.8945 - auc: 0.9963 - prc: 0.9684 - top3_acc: 0.9852 - accuracy: 0.9111 - val_loss: 0.0704 - val_cat_acc: 0.9786 - val_precision: 0.9860 - val_recall: 0.9729 - val_auc: 0.9997 - val_prc: 0.9977 - val_top3_acc: 0.9984 - val_accuracy: 0.9786 - 22s/epoch - 182ms/step\n",
            "Epoch 53/100\n",
            "122/122 - 23s - loss: 0.0070 - cat_acc: 0.9101 - precision: 0.9325 - recall: 0.8924 - auc: 0.9960 - prc: 0.9666 - top3_acc: 0.9841 - accuracy: 0.9101 - val_loss: 0.0618 - val_cat_acc: 0.9839 - val_precision: 0.9869 - val_recall: 0.9786 - val_auc: 0.9996 - val_prc: 0.9979 - val_top3_acc: 0.9979 - val_accuracy: 0.9839 - 23s/epoch - 189ms/step\n",
            "Epoch 54/100\n",
            "122/122 - 23s - loss: 0.0066 - cat_acc: 0.9124 - precision: 0.9332 - recall: 0.8947 - auc: 0.9965 - prc: 0.9688 - top3_acc: 0.9848 - accuracy: 0.9124 - val_loss: 0.0560 - val_cat_acc: 0.9860 - val_precision: 0.9891 - val_recall: 0.9816 - val_auc: 0.9995 - val_prc: 0.9978 - val_top3_acc: 0.9987 - val_accuracy: 0.9860 - 23s/epoch - 187ms/step\n",
            "Epoch 55/100\n",
            "122/122 - 23s - loss: 0.0066 - cat_acc: 0.9128 - precision: 0.9335 - recall: 0.8964 - auc: 0.9965 - prc: 0.9699 - top3_acc: 0.9849 - accuracy: 0.9128 - val_loss: 0.0667 - val_cat_acc: 0.9797 - val_precision: 0.9847 - val_recall: 0.9763 - val_auc: 0.9996 - val_prc: 0.9977 - val_top3_acc: 0.9981 - val_accuracy: 0.9797 - 23s/epoch - 190ms/step\n",
            "Epoch 56/100\n",
            "122/122 - 22s - loss: 0.0065 - cat_acc: 0.9139 - precision: 0.9346 - recall: 0.8976 - auc: 0.9967 - prc: 0.9707 - top3_acc: 0.9860 - accuracy: 0.9139 - val_loss: 0.0561 - val_cat_acc: 0.9855 - val_precision: 0.9883 - val_recall: 0.9819 - val_auc: 0.9997 - val_prc: 0.9981 - val_top3_acc: 0.9979 - val_accuracy: 0.9855 - 22s/epoch - 184ms/step\n",
            "Epoch 57/100\n",
            "122/122 - 22s - loss: 0.0063 - cat_acc: 0.9186 - precision: 0.9380 - recall: 0.9034 - auc: 0.9967 - prc: 0.9717 - top3_acc: 0.9856 - accuracy: 0.9186 - val_loss: 0.0568 - val_cat_acc: 0.9853 - val_precision: 0.9888 - val_recall: 0.9802 - val_auc: 0.9996 - val_prc: 0.9981 - val_top3_acc: 0.9984 - val_accuracy: 0.9853 - 22s/epoch - 180ms/step\n",
            "Epoch 58/100\n",
            "122/122 - 23s - loss: 0.0063 - cat_acc: 0.9169 - precision: 0.9369 - recall: 0.9015 - auc: 0.9966 - prc: 0.9711 - top3_acc: 0.9869 - accuracy: 0.9169 - val_loss: 0.0616 - val_cat_acc: 0.9834 - val_precision: 0.9865 - val_recall: 0.9793 - val_auc: 0.9997 - val_prc: 0.9979 - val_top3_acc: 0.9982 - val_accuracy: 0.9834 - 23s/epoch - 185ms/step\n",
            "Epoch 59/100\n",
            "122/122 - 22s - loss: 0.0063 - cat_acc: 0.9187 - precision: 0.9372 - recall: 0.9030 - auc: 0.9970 - prc: 0.9724 - top3_acc: 0.9872 - accuracy: 0.9187 - val_loss: 0.0656 - val_cat_acc: 0.9831 - val_precision: 0.9868 - val_recall: 0.9786 - val_auc: 0.9997 - val_prc: 0.9978 - val_top3_acc: 0.9984 - val_accuracy: 0.9831 - 22s/epoch - 182ms/step\n",
            "Epoch 60/100\n",
            "122/122 - 23s - loss: 0.0066 - cat_acc: 0.9129 - precision: 0.9318 - recall: 0.8965 - auc: 0.9963 - prc: 0.9688 - top3_acc: 0.9866 - accuracy: 0.9129 - val_loss: 0.0557 - val_cat_acc: 0.9854 - val_precision: 0.9886 - val_recall: 0.9810 - val_auc: 0.9996 - val_prc: 0.9979 - val_top3_acc: 0.9986 - val_accuracy: 0.9854 - 23s/epoch - 186ms/step\n",
            "Epoch 61/100\n",
            "122/122 - 22s - loss: 0.0062 - cat_acc: 0.9165 - precision: 0.9358 - recall: 0.9030 - auc: 0.9966 - prc: 0.9716 - top3_acc: 0.9857 - accuracy: 0.9165 - val_loss: 0.0518 - val_cat_acc: 0.9874 - val_precision: 0.9905 - val_recall: 0.9835 - val_auc: 0.9998 - val_prc: 0.9984 - val_top3_acc: 0.9979 - val_accuracy: 0.9874 - 22s/epoch - 183ms/step\n",
            "Epoch 62/100\n",
            "122/122 - 23s - loss: 0.0057 - cat_acc: 0.9219 - precision: 0.9396 - recall: 0.9080 - auc: 0.9968 - prc: 0.9743 - top3_acc: 0.9880 - accuracy: 0.9219 - val_loss: 0.0482 - val_cat_acc: 0.9878 - val_precision: 0.9904 - val_recall: 0.9842 - val_auc: 0.9999 - val_prc: 0.9989 - val_top3_acc: 0.9986 - val_accuracy: 0.9878 - 23s/epoch - 185ms/step\n",
            "Epoch 63/100\n",
            "122/122 - 23s - loss: 0.0060 - cat_acc: 0.9208 - precision: 0.9375 - recall: 0.9057 - auc: 0.9970 - prc: 0.9735 - top3_acc: 0.9865 - accuracy: 0.9208 - val_loss: 0.0558 - val_cat_acc: 0.9851 - val_precision: 0.9890 - val_recall: 0.9812 - val_auc: 0.9996 - val_prc: 0.9982 - val_top3_acc: 0.9986 - val_accuracy: 0.9851 - 23s/epoch - 191ms/step\n",
            "Epoch 64/100\n",
            "122/122 - 23s - loss: 0.0055 - cat_acc: 0.9273 - precision: 0.9426 - recall: 0.9137 - auc: 0.9969 - prc: 0.9760 - top3_acc: 0.9889 - accuracy: 0.9273 - val_loss: 0.0625 - val_cat_acc: 0.9808 - val_precision: 0.9870 - val_recall: 0.9763 - val_auc: 0.9996 - val_prc: 0.9977 - val_top3_acc: 0.9980 - val_accuracy: 0.9808 - 23s/epoch - 192ms/step\n",
            "Epoch 65/100\n",
            "122/122 - 23s - loss: 0.0058 - cat_acc: 0.9246 - precision: 0.9419 - recall: 0.9116 - auc: 0.9969 - prc: 0.9755 - top3_acc: 0.9879 - accuracy: 0.9246 - val_loss: 0.0438 - val_cat_acc: 0.9882 - val_precision: 0.9909 - val_recall: 0.9851 - val_auc: 0.9997 - val_prc: 0.9987 - val_top3_acc: 0.9989 - val_accuracy: 0.9882 - 23s/epoch - 187ms/step\n",
            "Epoch 66/100\n",
            "122/122 - 22s - loss: 0.0053 - cat_acc: 0.9300 - precision: 0.9455 - recall: 0.9176 - auc: 0.9973 - prc: 0.9782 - top3_acc: 0.9887 - accuracy: 0.9300 - val_loss: 0.0420 - val_cat_acc: 0.9890 - val_precision: 0.9915 - val_recall: 0.9858 - val_auc: 0.9996 - val_prc: 0.9987 - val_top3_acc: 0.9989 - val_accuracy: 0.9890 - 22s/epoch - 182ms/step\n",
            "Epoch 67/100\n",
            "122/122 - 22s - loss: 0.0058 - cat_acc: 0.9242 - precision: 0.9417 - recall: 0.9103 - auc: 0.9969 - prc: 0.9759 - top3_acc: 0.9886 - accuracy: 0.9242 - val_loss: 0.0429 - val_cat_acc: 0.9888 - val_precision: 0.9909 - val_recall: 0.9860 - val_auc: 0.9997 - val_prc: 0.9986 - val_top3_acc: 0.9989 - val_accuracy: 0.9888 - 22s/epoch - 179ms/step\n",
            "Epoch 68/100\n",
            "122/122 - 23s - loss: 0.0055 - cat_acc: 0.9263 - precision: 0.9423 - recall: 0.9140 - auc: 0.9971 - prc: 0.9770 - top3_acc: 0.9887 - accuracy: 0.9263 - val_loss: 0.0621 - val_cat_acc: 0.9817 - val_precision: 0.9865 - val_recall: 0.9771 - val_auc: 0.9998 - val_prc: 0.9979 - val_top3_acc: 0.9982 - val_accuracy: 0.9817 - 23s/epoch - 186ms/step\n",
            "Epoch 69/100\n",
            "122/122 - 22s - loss: 0.0055 - cat_acc: 0.9264 - precision: 0.9425 - recall: 0.9141 - auc: 0.9969 - prc: 0.9768 - top3_acc: 0.9886 - accuracy: 0.9264 - val_loss: 0.0443 - val_cat_acc: 0.9890 - val_precision: 0.9919 - val_recall: 0.9854 - val_auc: 0.9996 - val_prc: 0.9984 - val_top3_acc: 0.9985 - val_accuracy: 0.9890 - 22s/epoch - 182ms/step\n",
            "Epoch 70/100\n",
            "122/122 - 22s - loss: 0.0055 - cat_acc: 0.9280 - precision: 0.9437 - recall: 0.9157 - auc: 0.9972 - prc: 0.9774 - top3_acc: 0.9890 - accuracy: 0.9280 - val_loss: 0.0544 - val_cat_acc: 0.9846 - val_precision: 0.9878 - val_recall: 0.9821 - val_auc: 0.9995 - val_prc: 0.9976 - val_top3_acc: 0.9986 - val_accuracy: 0.9846 - 22s/epoch - 179ms/step\n",
            "Epoch 71/100\n",
            "122/122 - 22s - loss: 0.0055 - cat_acc: 0.9265 - precision: 0.9424 - recall: 0.9135 - auc: 0.9974 - prc: 0.9769 - top3_acc: 0.9894 - accuracy: 0.9265 - val_loss: 0.0432 - val_cat_acc: 0.9878 - val_precision: 0.9900 - val_recall: 0.9849 - val_auc: 0.9996 - val_prc: 0.9986 - val_top3_acc: 0.9990 - val_accuracy: 0.9878 - 22s/epoch - 182ms/step\n",
            "Epoch 72/100\n",
            "122/122 - 22s - loss: 0.0053 - cat_acc: 0.9302 - precision: 0.9449 - recall: 0.9191 - auc: 0.9974 - prc: 0.9787 - top3_acc: 0.9899 - accuracy: 0.9302 - val_loss: 0.0396 - val_cat_acc: 0.9897 - val_precision: 0.9911 - val_recall: 0.9865 - val_auc: 0.9996 - val_prc: 0.9987 - val_top3_acc: 0.9986 - val_accuracy: 0.9897 - 22s/epoch - 178ms/step\n",
            "Epoch 73/100\n",
            "122/122 - 23s - loss: 0.0050 - cat_acc: 0.9347 - precision: 0.9477 - recall: 0.9223 - auc: 0.9974 - prc: 0.9801 - top3_acc: 0.9908 - accuracy: 0.9347 - val_loss: 0.0424 - val_cat_acc: 0.9878 - val_precision: 0.9900 - val_recall: 0.9851 - val_auc: 0.9998 - val_prc: 0.9987 - val_top3_acc: 0.9991 - val_accuracy: 0.9878 - 23s/epoch - 188ms/step\n",
            "Epoch 74/100\n",
            "122/122 - 22s - loss: 0.0061 - cat_acc: 0.9208 - precision: 0.9377 - recall: 0.9068 - auc: 0.9967 - prc: 0.9739 - top3_acc: 0.9873 - accuracy: 0.9208 - val_loss: 0.0400 - val_cat_acc: 0.9902 - val_precision: 0.9910 - val_recall: 0.9871 - val_auc: 0.9996 - val_prc: 0.9985 - val_top3_acc: 0.9989 - val_accuracy: 0.9902 - 22s/epoch - 181ms/step\n",
            "Epoch 75/100\n",
            "122/122 - 23s - loss: 0.0052 - cat_acc: 0.9321 - precision: 0.9450 - recall: 0.9216 - auc: 0.9974 - prc: 0.9792 - top3_acc: 0.9902 - accuracy: 0.9321 - val_loss: 0.0412 - val_cat_acc: 0.9875 - val_precision: 0.9897 - val_recall: 0.9849 - val_auc: 0.9997 - val_prc: 0.9987 - val_top3_acc: 0.9986 - val_accuracy: 0.9875 - 23s/epoch - 189ms/step\n",
            "Epoch 76/100\n",
            "122/122 - 22s - loss: 0.0048 - cat_acc: 0.9345 - precision: 0.9473 - recall: 0.9245 - auc: 0.9974 - prc: 0.9803 - top3_acc: 0.9901 - accuracy: 0.9345 - val_loss: 0.0395 - val_cat_acc: 0.9883 - val_precision: 0.9910 - val_recall: 0.9869 - val_auc: 0.9995 - val_prc: 0.9983 - val_top3_acc: 0.9990 - val_accuracy: 0.9883 - 22s/epoch - 179ms/step\n",
            "Epoch 77/100\n",
            "122/122 - 23s - loss: 0.0047 - cat_acc: 0.9368 - precision: 0.9488 - recall: 0.9264 - auc: 0.9974 - prc: 0.9811 - top3_acc: 0.9908 - accuracy: 0.9368 - val_loss: 0.0445 - val_cat_acc: 0.9877 - val_precision: 0.9904 - val_recall: 0.9859 - val_auc: 0.9993 - val_prc: 0.9978 - val_top3_acc: 0.9986 - val_accuracy: 0.9877 - 23s/epoch - 185ms/step\n",
            "Epoch 78/100\n",
            "122/122 - 23s - loss: 0.0048 - cat_acc: 0.9356 - precision: 0.9502 - recall: 0.9256 - auc: 0.9980 - prc: 0.9824 - top3_acc: 0.9912 - accuracy: 0.9356 - val_loss: 0.0521 - val_cat_acc: 0.9851 - val_precision: 0.9888 - val_recall: 0.9826 - val_auc: 0.9995 - val_prc: 0.9980 - val_top3_acc: 0.9989 - val_accuracy: 0.9851 - 23s/epoch - 185ms/step\n",
            "Epoch 79/100\n",
            "122/122 - 22s - loss: 0.0048 - cat_acc: 0.9352 - precision: 0.9484 - recall: 0.9248 - auc: 0.9975 - prc: 0.9809 - top3_acc: 0.9903 - accuracy: 0.9352 - val_loss: 0.0458 - val_cat_acc: 0.9860 - val_precision: 0.9888 - val_recall: 0.9827 - val_auc: 0.9997 - val_prc: 0.9985 - val_top3_acc: 0.9986 - val_accuracy: 0.9860 - 22s/epoch - 183ms/step\n",
            "Epoch 80/100\n",
            "122/122 - 22s - loss: 0.0047 - cat_acc: 0.9382 - precision: 0.9504 - recall: 0.9284 - auc: 0.9974 - prc: 0.9816 - top3_acc: 0.9912 - accuracy: 0.9382 - val_loss: 0.0489 - val_cat_acc: 0.9841 - val_precision: 0.9874 - val_recall: 0.9812 - val_auc: 0.9997 - val_prc: 0.9986 - val_top3_acc: 0.9987 - val_accuracy: 0.9841 - 22s/epoch - 179ms/step\n",
            "Epoch 81/100\n",
            "122/122 - 22s - loss: 0.0045 - cat_acc: 0.9387 - precision: 0.9508 - recall: 0.9287 - auc: 0.9977 - prc: 0.9821 - top3_acc: 0.9913 - accuracy: 0.9387 - val_loss: 0.0397 - val_cat_acc: 0.9882 - val_precision: 0.9904 - val_recall: 0.9859 - val_auc: 0.9997 - val_prc: 0.9987 - val_top3_acc: 0.9991 - val_accuracy: 0.9882 - 22s/epoch - 182ms/step\n",
            "Epoch 82/100\n",
            "122/122 - 22s - loss: 0.0044 - cat_acc: 0.9403 - precision: 0.9521 - recall: 0.9303 - auc: 0.9975 - prc: 0.9826 - top3_acc: 0.9916 - accuracy: 0.9403 - val_loss: 0.0370 - val_cat_acc: 0.9893 - val_precision: 0.9911 - val_recall: 0.9878 - val_auc: 0.9996 - val_prc: 0.9985 - val_top3_acc: 0.9990 - val_accuracy: 0.9893 - 22s/epoch - 180ms/step\n",
            "Epoch 83/100\n",
            "122/122 - 23s - loss: 0.0047 - cat_acc: 0.9371 - precision: 0.9492 - recall: 0.9283 - auc: 0.9976 - prc: 0.9818 - top3_acc: 0.9918 - accuracy: 0.9371 - val_loss: 0.0350 - val_cat_acc: 0.9898 - val_precision: 0.9927 - val_recall: 0.9885 - val_auc: 0.9997 - val_prc: 0.9985 - val_top3_acc: 0.9990 - val_accuracy: 0.9898 - 23s/epoch - 185ms/step\n",
            "Epoch 84/100\n",
            "122/122 - 22s - loss: 0.0047 - cat_acc: 0.9374 - precision: 0.9498 - recall: 0.9280 - auc: 0.9974 - prc: 0.9813 - top3_acc: 0.9914 - accuracy: 0.9374 - val_loss: 0.0359 - val_cat_acc: 0.9882 - val_precision: 0.9905 - val_recall: 0.9860 - val_auc: 0.9997 - val_prc: 0.9989 - val_top3_acc: 0.9989 - val_accuracy: 0.9882 - 22s/epoch - 182ms/step\n",
            "Epoch 85/100\n",
            "122/122 - 22s - loss: 0.0047 - cat_acc: 0.9367 - precision: 0.9494 - recall: 0.9273 - auc: 0.9975 - prc: 0.9817 - top3_acc: 0.9924 - accuracy: 0.9367 - val_loss: 0.0496 - val_cat_acc: 0.9851 - val_precision: 0.9875 - val_recall: 0.9834 - val_auc: 0.9996 - val_prc: 0.9979 - val_top3_acc: 0.9985 - val_accuracy: 0.9851 - 22s/epoch - 181ms/step\n",
            "Epoch 86/100\n",
            "122/122 - 22s - loss: 0.0048 - cat_acc: 0.9361 - precision: 0.9493 - recall: 0.9262 - auc: 0.9973 - prc: 0.9812 - top3_acc: 0.9909 - accuracy: 0.9361 - val_loss: 0.0322 - val_cat_acc: 0.9908 - val_precision: 0.9928 - val_recall: 0.9897 - val_auc: 0.9999 - val_prc: 0.9991 - val_top3_acc: 0.9992 - val_accuracy: 0.9908 - 22s/epoch - 182ms/step\n",
            "Epoch 87/100\n",
            "122/122 - 23s - loss: 0.0044 - cat_acc: 0.9391 - precision: 0.9507 - recall: 0.9311 - auc: 0.9978 - prc: 0.9834 - top3_acc: 0.9917 - accuracy: 0.9391 - val_loss: 0.0336 - val_cat_acc: 0.9908 - val_precision: 0.9925 - val_recall: 0.9894 - val_auc: 0.9997 - val_prc: 0.9988 - val_top3_acc: 0.9992 - val_accuracy: 0.9908 - 23s/epoch - 187ms/step\n",
            "Epoch 88/100\n",
            "122/122 - 22s - loss: 0.0045 - cat_acc: 0.9375 - precision: 0.9499 - recall: 0.9285 - auc: 0.9977 - prc: 0.9824 - top3_acc: 0.9924 - accuracy: 0.9375 - val_loss: 0.0357 - val_cat_acc: 0.9902 - val_precision: 0.9913 - val_recall: 0.9875 - val_auc: 0.9998 - val_prc: 0.9990 - val_top3_acc: 0.9995 - val_accuracy: 0.9902 - 22s/epoch - 178ms/step\n",
            "Epoch 89/100\n",
            "122/122 - 22s - loss: 0.0043 - cat_acc: 0.9418 - precision: 0.9521 - recall: 0.9331 - auc: 0.9974 - prc: 0.9824 - top3_acc: 0.9930 - accuracy: 0.9418 - val_loss: 0.0431 - val_cat_acc: 0.9859 - val_precision: 0.9880 - val_recall: 0.9840 - val_auc: 0.9996 - val_prc: 0.9986 - val_top3_acc: 0.9986 - val_accuracy: 0.9859 - 22s/epoch - 180ms/step\n",
            "Epoch 90/100\n",
            "122/122 - 22s - loss: 0.0042 - cat_acc: 0.9428 - precision: 0.9539 - recall: 0.9343 - auc: 0.9978 - prc: 0.9843 - top3_acc: 0.9926 - accuracy: 0.9428 - val_loss: 0.0337 - val_cat_acc: 0.9898 - val_precision: 0.9918 - val_recall: 0.9889 - val_auc: 0.9997 - val_prc: 0.9988 - val_top3_acc: 0.9990 - val_accuracy: 0.9898 - 22s/epoch - 178ms/step\n",
            "Epoch 91/100\n",
            "122/122 - 21s - loss: 0.0040 - cat_acc: 0.9452 - precision: 0.9554 - recall: 0.9368 - auc: 0.9980 - prc: 0.9854 - top3_acc: 0.9924 - accuracy: 0.9452 - val_loss: 0.0534 - val_cat_acc: 0.9819 - val_precision: 0.9846 - val_recall: 0.9801 - val_auc: 0.9998 - val_prc: 0.9983 - val_top3_acc: 0.9989 - val_accuracy: 0.9819 - 21s/epoch - 176ms/step\n",
            "Epoch 92/100\n",
            "122/122 - 23s - loss: 0.0043 - cat_acc: 0.9425 - precision: 0.9538 - recall: 0.9341 - auc: 0.9979 - prc: 0.9844 - top3_acc: 0.9918 - accuracy: 0.9425 - val_loss: 0.0307 - val_cat_acc: 0.9912 - val_precision: 0.9930 - val_recall: 0.9889 - val_auc: 0.9997 - val_prc: 0.9992 - val_top3_acc: 0.9992 - val_accuracy: 0.9912 - 23s/epoch - 187ms/step\n",
            "Epoch 93/100\n",
            "122/122 - 23s - loss: 0.0045 - cat_acc: 0.9416 - precision: 0.9522 - recall: 0.9323 - auc: 0.9976 - prc: 0.9833 - top3_acc: 0.9921 - accuracy: 0.9416 - val_loss: 0.0392 - val_cat_acc: 0.9893 - val_precision: 0.9905 - val_recall: 0.9878 - val_auc: 0.9997 - val_prc: 0.9988 - val_top3_acc: 0.9992 - val_accuracy: 0.9893 - 23s/epoch - 190ms/step\n",
            "Epoch 94/100\n",
            "122/122 - 22s - loss: 0.0041 - cat_acc: 0.9451 - precision: 0.9546 - recall: 0.9373 - auc: 0.9978 - prc: 0.9848 - top3_acc: 0.9921 - accuracy: 0.9451 - val_loss: 0.0325 - val_cat_acc: 0.9918 - val_precision: 0.9927 - val_recall: 0.9903 - val_auc: 0.9997 - val_prc: 0.9989 - val_top3_acc: 0.9992 - val_accuracy: 0.9918 - 22s/epoch - 180ms/step\n",
            "Epoch 95/100\n",
            "122/122 - 22s - loss: 0.0040 - cat_acc: 0.9461 - precision: 0.9564 - recall: 0.9381 - auc: 0.9980 - prc: 0.9856 - top3_acc: 0.9930 - accuracy: 0.9461 - val_loss: 0.0326 - val_cat_acc: 0.9911 - val_precision: 0.9929 - val_recall: 0.9894 - val_auc: 0.9997 - val_prc: 0.9990 - val_top3_acc: 0.9991 - val_accuracy: 0.9911 - 22s/epoch - 181ms/step\n",
            "Epoch 96/100\n",
            "122/122 - 22s - loss: 0.0044 - cat_acc: 0.9409 - precision: 0.9518 - recall: 0.9325 - auc: 0.9977 - prc: 0.9836 - top3_acc: 0.9911 - accuracy: 0.9409 - val_loss: 0.0309 - val_cat_acc: 0.9905 - val_precision: 0.9920 - val_recall: 0.9879 - val_auc: 0.9997 - val_prc: 0.9992 - val_top3_acc: 0.9991 - val_accuracy: 0.9905 - 22s/epoch - 183ms/step\n",
            "Epoch 97/100\n",
            "122/122 - 22s - loss: 0.0039 - cat_acc: 0.9450 - precision: 0.9548 - recall: 0.9376 - auc: 0.9981 - prc: 0.9856 - top3_acc: 0.9930 - accuracy: 0.9450 - val_loss: 0.0265 - val_cat_acc: 0.9928 - val_precision: 0.9936 - val_recall: 0.9916 - val_auc: 0.9998 - val_prc: 0.9992 - val_top3_acc: 0.9995 - val_accuracy: 0.9928 - 22s/epoch - 180ms/step\n",
            "Epoch 98/100\n",
            "122/122 - 22s - loss: 0.0039 - cat_acc: 0.9478 - precision: 0.9579 - recall: 0.9401 - auc: 0.9981 - prc: 0.9863 - top3_acc: 0.9932 - accuracy: 0.9478 - val_loss: 0.0268 - val_cat_acc: 0.9928 - val_precision: 0.9942 - val_recall: 0.9914 - val_auc: 0.9997 - val_prc: 0.9991 - val_top3_acc: 0.9990 - val_accuracy: 0.9928 - 22s/epoch - 180ms/step\n",
            "Epoch 99/100\n",
            "122/122 - 23s - loss: 0.0037 - cat_acc: 0.9474 - precision: 0.9574 - recall: 0.9392 - auc: 0.9982 - prc: 0.9867 - top3_acc: 0.9938 - accuracy: 0.9474 - val_loss: 0.0308 - val_cat_acc: 0.9922 - val_precision: 0.9933 - val_recall: 0.9903 - val_auc: 0.9997 - val_prc: 0.9990 - val_top3_acc: 0.9995 - val_accuracy: 0.9922 - 23s/epoch - 185ms/step\n",
            "Epoch 100/100\n",
            "122/122 - 22s - loss: 0.0038 - cat_acc: 0.9486 - precision: 0.9575 - recall: 0.9421 - auc: 0.9978 - prc: 0.9866 - top3_acc: 0.9926 - accuracy: 0.9486 - val_loss: 0.0280 - val_cat_acc: 0.9936 - val_precision: 0.9947 - val_recall: 0.9922 - val_auc: 0.9996 - val_prc: 0.9989 - val_top3_acc: 0.9994 - val_accuracy: 0.9936 - 22s/epoch - 179ms/step\n"
          ]
        }
      ]
    },
    {
      "cell_type": "code",
      "source": [
        "baseline_results5 = model5.evaluate(test_generator, batch_size=batch_size, verbose=1)\n",
        "for name, value in zip(model5.metrics_names, baseline_results5):\n",
        "  print(name, ': ', value)"
      ],
      "metadata": {
        "id": "oRgpvvdqc0Az",
        "colab": {
          "base_uri": "https://localhost:8080/"
        },
        "outputId": "3c3e8508-9d32-4a5c-a5b0-031c238831d1"
      },
      "execution_count": null,
      "outputs": [
        {
          "output_type": "stream",
          "name": "stdout",
          "text": [
            "32/32 [==============================] - 2s 43ms/step - loss: 0.0280 - cat_acc: 0.9936 - precision: 0.9947 - recall: 0.9922 - auc: 0.9996 - prc: 0.9989 - top3_acc: 0.9994 - accuracy: 0.9936\n",
            "loss :  0.028005976229906082\n",
            "cat_acc :  0.9935776591300964\n",
            "precision :  0.994697630405426\n",
            "recall :  0.9921924471855164\n",
            "auc :  0.9996123909950256\n",
            "prc :  0.9989137649536133\n",
            "top3_acc :  0.9993703365325928\n",
            "accuracy :  0.9935776591300964\n"
          ]
        }
      ]
    },
    {
      "cell_type": "code",
      "source": [
        "print(\"Best validation accuracy: {:0.3f}\".format(np.max(history5.history['val_accuracy'])))\n",
        "\n",
        "plt.plot(history5.history['accuracy'])\n",
        "plt.plot(history5.history['val_accuracy'])\n",
        "plt.ylabel('accuracy')\n",
        "plt.xlabel('epochs')\n",
        "plt.legend(['train', 'test'], loc='lower right')\n",
        "plt.show()"
      ],
      "metadata": {
        "id": "2oxq1kQGc0e2",
        "colab": {
          "base_uri": "https://localhost:8080/",
          "height": 296
        },
        "outputId": "e54a63b6-f92b-46ef-e312-e9a5dd8ce18e"
      },
      "execution_count": null,
      "outputs": [
        {
          "output_type": "stream",
          "name": "stdout",
          "text": [
            "Best validation accuracy: 0.994\n"
          ]
        },
        {
          "output_type": "display_data",
          "data": {
            "image/png": "[encoded data removed]",
            "text/plain": [
              "<Figure size 432x288 with 1 Axes>"
            ]
          },
          "metadata": {
            "needs_background": "light"
          }
        }
      ]
    },
    {
      "cell_type": "code",
      "source": [
        ""
      ],
      "metadata": {
        "id": "iee8jYBfc0oN"
      },
      "execution_count": null,
      "outputs": []
    },
    {
      "cell_type": "markdown",
      "metadata": {
        "id": "7b3BzodteWHC"
      },
      "source": [
        "## 7. Overall Conclusions and Recommendations"
      ]
    },
    {
      "cell_type": "markdown",
      "source": [
        "I think the most important observation is that adding data augmentation actually decreased the metrics values when training over 50 epochs while the model that the book uses to achieve 99% accuracy use data augmentation and train over 100 epochs. This makes sense because data augmentation is a technique to combat over fitting which is a common problem for smaller datasets.\n",
        "\n",
        "The other major conclusion is that a simple baseline CNN model performs extremely well on this image classification problem.\n",
        "\n",
        "      Baseline #1\n",
        "      loss :  0.25243934988975525\n",
        "      cat_acc :  0.948846161365509\n",
        "      precision :  0.9601150751113892\n",
        "      recall :  0.9412820339202881\n",
        "      auc :  0.9937134385108948\n",
        "      top3_acc :  0.9852564334869385\n",
        "      accuracy :  0.948846161365509\n",
        "\n",
        "      Baseline #2\n",
        "      loss :  0.2846887707710266\n",
        "      cat_acc :  0.9700000286102295\n",
        "      precision :  0.9708338975906372\n",
        "      recall :  0.9687179327011108\n",
        "      auc :  0.9922009706497192\n",
        "      top3_acc :  0.9919230937957764\n",
        "      accuracy :  0.9700000286102295\n",
        "\n",
        "      Baseline #3\n",
        "      loss :  0.10579825192689896\n",
        "      cat_acc :  0.9812820553779602\n",
        "      precision :  0.9828938841819763\n",
        "      recall :  0.9797435998916626\n",
        "      auc :  0.9967831373214722\n",
        "      top3_acc :  0.9951282143592834\n",
        "      accuracy :  0.9812820553779602\n",
        "\n",
        "      Final:\n",
        "      loss :  0.08476873487234116\n",
        "      cat_acc :  0.983589768409729\n",
        "      precision :  0.9853489398956299\n",
        "      recall :  0.9829487204551697\n",
        "      auc :  0.9977131485939026\n",
        "      top3_acc :  0.9951282143592834\n",
        "      accuracy :  0.983589768409729\n",
        "\n",
        "It's quite interesting that this baseline cnn achieves a top 3 accuracy score of 98.5% along with a top accuracy score of 96.5%. This means that the correct prediction is in the top 3 predictions 98.5% of the time. Now this seems very good, but when we think about the real-world application of this image classification, this may not be all that great. If you had a self-driving car, incorrectly classifying a stop sign, even once, could have disastrous consequences. "
      ],
      "metadata": {
        "id": "FlXSuYvIuq9I"
      }
    }
  ]
}